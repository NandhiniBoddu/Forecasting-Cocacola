{
 "cells": [
  {
   "cell_type": "code",
   "execution_count": 61,
   "id": "0f99bc48",
   "metadata": {
    "ExecuteTime": {
     "end_time": "2022-12-01T17:23:31.156078Z",
     "start_time": "2022-12-01T17:23:31.124790Z"
    }
   },
   "outputs": [],
   "source": [
    "import pandas as pd \n",
    "import numpy as np \n",
    "import matplotlib.pyplot as plt \n",
    "import seaborn as sns "
   ]
  },
  {
   "cell_type": "code",
   "execution_count": 62,
   "id": "7242660d",
   "metadata": {
    "ExecuteTime": {
     "end_time": "2022-12-01T17:23:31.437357Z",
     "start_time": "2022-12-01T17:23:31.156078Z"
    }
   },
   "outputs": [
    {
     "data": {
      "text/html": [
       "<div>\n",
       "<style scoped>\n",
       "    .dataframe tbody tr th:only-of-type {\n",
       "        vertical-align: middle;\n",
       "    }\n",
       "\n",
       "    .dataframe tbody tr th {\n",
       "        vertical-align: top;\n",
       "    }\n",
       "\n",
       "    .dataframe thead th {\n",
       "        text-align: right;\n",
       "    }\n",
       "</style>\n",
       "<table border=\"1\" class=\"dataframe\">\n",
       "  <thead>\n",
       "    <tr style=\"text-align: right;\">\n",
       "      <th></th>\n",
       "      <th>Quarter</th>\n",
       "      <th>Sales</th>\n",
       "    </tr>\n",
       "  </thead>\n",
       "  <tbody>\n",
       "    <tr>\n",
       "      <th>0</th>\n",
       "      <td>Q1_86</td>\n",
       "      <td>1734.827000</td>\n",
       "    </tr>\n",
       "    <tr>\n",
       "      <th>1</th>\n",
       "      <td>Q2_86</td>\n",
       "      <td>2244.960999</td>\n",
       "    </tr>\n",
       "    <tr>\n",
       "      <th>2</th>\n",
       "      <td>Q3_86</td>\n",
       "      <td>2533.804993</td>\n",
       "    </tr>\n",
       "    <tr>\n",
       "      <th>3</th>\n",
       "      <td>Q4_86</td>\n",
       "      <td>2154.962997</td>\n",
       "    </tr>\n",
       "    <tr>\n",
       "      <th>4</th>\n",
       "      <td>Q1_87</td>\n",
       "      <td>1547.818996</td>\n",
       "    </tr>\n",
       "    <tr>\n",
       "      <th>5</th>\n",
       "      <td>Q2_87</td>\n",
       "      <td>2104.411995</td>\n",
       "    </tr>\n",
       "    <tr>\n",
       "      <th>6</th>\n",
       "      <td>Q3_87</td>\n",
       "      <td>2014.362999</td>\n",
       "    </tr>\n",
       "    <tr>\n",
       "      <th>7</th>\n",
       "      <td>Q4_87</td>\n",
       "      <td>1991.746998</td>\n",
       "    </tr>\n",
       "    <tr>\n",
       "      <th>8</th>\n",
       "      <td>Q1_88</td>\n",
       "      <td>1869.049999</td>\n",
       "    </tr>\n",
       "    <tr>\n",
       "      <th>9</th>\n",
       "      <td>Q2_88</td>\n",
       "      <td>2313.631996</td>\n",
       "    </tr>\n",
       "    <tr>\n",
       "      <th>10</th>\n",
       "      <td>Q3_88</td>\n",
       "      <td>2128.320000</td>\n",
       "    </tr>\n",
       "    <tr>\n",
       "      <th>11</th>\n",
       "      <td>Q4_88</td>\n",
       "      <td>2026.828999</td>\n",
       "    </tr>\n",
       "    <tr>\n",
       "      <th>12</th>\n",
       "      <td>Q1_89</td>\n",
       "      <td>1910.603996</td>\n",
       "    </tr>\n",
       "    <tr>\n",
       "      <th>13</th>\n",
       "      <td>Q2_89</td>\n",
       "      <td>2331.164993</td>\n",
       "    </tr>\n",
       "    <tr>\n",
       "      <th>14</th>\n",
       "      <td>Q3_89</td>\n",
       "      <td>2206.549995</td>\n",
       "    </tr>\n",
       "    <tr>\n",
       "      <th>15</th>\n",
       "      <td>Q4_89</td>\n",
       "      <td>2173.967995</td>\n",
       "    </tr>\n",
       "    <tr>\n",
       "      <th>16</th>\n",
       "      <td>Q1_90</td>\n",
       "      <td>2148.278000</td>\n",
       "    </tr>\n",
       "    <tr>\n",
       "      <th>17</th>\n",
       "      <td>Q2_90</td>\n",
       "      <td>2739.307999</td>\n",
       "    </tr>\n",
       "    <tr>\n",
       "      <th>18</th>\n",
       "      <td>Q3_90</td>\n",
       "      <td>2792.753998</td>\n",
       "    </tr>\n",
       "    <tr>\n",
       "      <th>19</th>\n",
       "      <td>Q4_90</td>\n",
       "      <td>2556.009995</td>\n",
       "    </tr>\n",
       "    <tr>\n",
       "      <th>20</th>\n",
       "      <td>Q1_91</td>\n",
       "      <td>2480.973999</td>\n",
       "    </tr>\n",
       "    <tr>\n",
       "      <th>21</th>\n",
       "      <td>Q2_91</td>\n",
       "      <td>3039.522995</td>\n",
       "    </tr>\n",
       "    <tr>\n",
       "      <th>22</th>\n",
       "      <td>Q3_91</td>\n",
       "      <td>3172.115997</td>\n",
       "    </tr>\n",
       "    <tr>\n",
       "      <th>23</th>\n",
       "      <td>Q4_91</td>\n",
       "      <td>2879.000999</td>\n",
       "    </tr>\n",
       "    <tr>\n",
       "      <th>24</th>\n",
       "      <td>Q1_92</td>\n",
       "      <td>2772.000000</td>\n",
       "    </tr>\n",
       "    <tr>\n",
       "      <th>25</th>\n",
       "      <td>Q2_92</td>\n",
       "      <td>3550.000000</td>\n",
       "    </tr>\n",
       "    <tr>\n",
       "      <th>26</th>\n",
       "      <td>Q3_92</td>\n",
       "      <td>3508.000000</td>\n",
       "    </tr>\n",
       "    <tr>\n",
       "      <th>27</th>\n",
       "      <td>Q4_92</td>\n",
       "      <td>3243.859993</td>\n",
       "    </tr>\n",
       "    <tr>\n",
       "      <th>28</th>\n",
       "      <td>Q1_93</td>\n",
       "      <td>3056.000000</td>\n",
       "    </tr>\n",
       "    <tr>\n",
       "      <th>29</th>\n",
       "      <td>Q2_93</td>\n",
       "      <td>3899.000000</td>\n",
       "    </tr>\n",
       "    <tr>\n",
       "      <th>30</th>\n",
       "      <td>Q3_93</td>\n",
       "      <td>3629.000000</td>\n",
       "    </tr>\n",
       "    <tr>\n",
       "      <th>31</th>\n",
       "      <td>Q4_93</td>\n",
       "      <td>3373.000000</td>\n",
       "    </tr>\n",
       "    <tr>\n",
       "      <th>32</th>\n",
       "      <td>Q1_94</td>\n",
       "      <td>3352.000000</td>\n",
       "    </tr>\n",
       "    <tr>\n",
       "      <th>33</th>\n",
       "      <td>Q2_94</td>\n",
       "      <td>4342.000000</td>\n",
       "    </tr>\n",
       "    <tr>\n",
       "      <th>34</th>\n",
       "      <td>Q3_94</td>\n",
       "      <td>4461.000000</td>\n",
       "    </tr>\n",
       "    <tr>\n",
       "      <th>35</th>\n",
       "      <td>Q4_94</td>\n",
       "      <td>4017.000000</td>\n",
       "    </tr>\n",
       "    <tr>\n",
       "      <th>36</th>\n",
       "      <td>Q1_95</td>\n",
       "      <td>3854.000000</td>\n",
       "    </tr>\n",
       "    <tr>\n",
       "      <th>37</th>\n",
       "      <td>Q2_95</td>\n",
       "      <td>4936.000000</td>\n",
       "    </tr>\n",
       "    <tr>\n",
       "      <th>38</th>\n",
       "      <td>Q3_95</td>\n",
       "      <td>4895.000000</td>\n",
       "    </tr>\n",
       "    <tr>\n",
       "      <th>39</th>\n",
       "      <td>Q4_95</td>\n",
       "      <td>4333.000000</td>\n",
       "    </tr>\n",
       "    <tr>\n",
       "      <th>40</th>\n",
       "      <td>Q1_96</td>\n",
       "      <td>4194.000000</td>\n",
       "    </tr>\n",
       "    <tr>\n",
       "      <th>41</th>\n",
       "      <td>Q2_96</td>\n",
       "      <td>5253.000000</td>\n",
       "    </tr>\n",
       "  </tbody>\n",
       "</table>\n",
       "</div>"
      ],
      "text/plain": [
       "   Quarter        Sales\n",
       "0    Q1_86  1734.827000\n",
       "1    Q2_86  2244.960999\n",
       "2    Q3_86  2533.804993\n",
       "3    Q4_86  2154.962997\n",
       "4    Q1_87  1547.818996\n",
       "5    Q2_87  2104.411995\n",
       "6    Q3_87  2014.362999\n",
       "7    Q4_87  1991.746998\n",
       "8    Q1_88  1869.049999\n",
       "9    Q2_88  2313.631996\n",
       "10   Q3_88  2128.320000\n",
       "11   Q4_88  2026.828999\n",
       "12   Q1_89  1910.603996\n",
       "13   Q2_89  2331.164993\n",
       "14   Q3_89  2206.549995\n",
       "15   Q4_89  2173.967995\n",
       "16   Q1_90  2148.278000\n",
       "17   Q2_90  2739.307999\n",
       "18   Q3_90  2792.753998\n",
       "19   Q4_90  2556.009995\n",
       "20   Q1_91  2480.973999\n",
       "21   Q2_91  3039.522995\n",
       "22   Q3_91  3172.115997\n",
       "23   Q4_91  2879.000999\n",
       "24   Q1_92  2772.000000\n",
       "25   Q2_92  3550.000000\n",
       "26   Q3_92  3508.000000\n",
       "27   Q4_92  3243.859993\n",
       "28   Q1_93  3056.000000\n",
       "29   Q2_93  3899.000000\n",
       "30   Q3_93  3629.000000\n",
       "31   Q4_93  3373.000000\n",
       "32   Q1_94  3352.000000\n",
       "33   Q2_94  4342.000000\n",
       "34   Q3_94  4461.000000\n",
       "35   Q4_94  4017.000000\n",
       "36   Q1_95  3854.000000\n",
       "37   Q2_95  4936.000000\n",
       "38   Q3_95  4895.000000\n",
       "39   Q4_95  4333.000000\n",
       "40   Q1_96  4194.000000\n",
       "41   Q2_96  5253.000000"
      ]
     },
     "execution_count": 62,
     "metadata": {},
     "output_type": "execute_result"
    }
   ],
   "source": [
    "data = pd.read_excel(\"CocaCola_Sales_Rawdata.xlsx\")\n",
    "data "
   ]
  },
  {
   "cell_type": "code",
   "execution_count": 63,
   "id": "cdb1d8c7",
   "metadata": {
    "ExecuteTime": {
     "end_time": "2022-12-01T17:23:31.562370Z",
     "start_time": "2022-12-01T17:23:31.437357Z"
    }
   },
   "outputs": [
    {
     "data": {
      "text/plain": [
       "(42, 2)"
      ]
     },
     "execution_count": 63,
     "metadata": {},
     "output_type": "execute_result"
    }
   ],
   "source": [
    "data.shape "
   ]
  },
  {
   "cell_type": "code",
   "execution_count": 64,
   "id": "d75389d3",
   "metadata": {
    "ExecuteTime": {
     "end_time": "2022-12-01T17:23:31.718634Z",
     "start_time": "2022-12-01T17:23:31.562370Z"
    }
   },
   "outputs": [
    {
     "name": "stdout",
     "output_type": "stream",
     "text": [
      "<class 'pandas.core.frame.DataFrame'>\n",
      "RangeIndex: 42 entries, 0 to 41\n",
      "Data columns (total 2 columns):\n",
      " #   Column   Non-Null Count  Dtype  \n",
      "---  ------   --------------  -----  \n",
      " 0   Quarter  42 non-null     object \n",
      " 1   Sales    42 non-null     float64\n",
      "dtypes: float64(1), object(1)\n",
      "memory usage: 800.0+ bytes\n"
     ]
    }
   ],
   "source": [
    "data.info()"
   ]
  },
  {
   "cell_type": "code",
   "execution_count": 65,
   "id": "7bf6a982",
   "metadata": {
    "ExecuteTime": {
     "end_time": "2022-12-01T17:23:31.890496Z",
     "start_time": "2022-12-01T17:23:31.718634Z"
    },
    "scrolled": true
   },
   "outputs": [
    {
     "data": {
      "text/html": [
       "<div>\n",
       "<style scoped>\n",
       "    .dataframe tbody tr th:only-of-type {\n",
       "        vertical-align: middle;\n",
       "    }\n",
       "\n",
       "    .dataframe tbody tr th {\n",
       "        vertical-align: top;\n",
       "    }\n",
       "\n",
       "    .dataframe thead th {\n",
       "        text-align: right;\n",
       "    }\n",
       "</style>\n",
       "<table border=\"1\" class=\"dataframe\">\n",
       "  <thead>\n",
       "    <tr style=\"text-align: right;\">\n",
       "      <th></th>\n",
       "      <th>Sales</th>\n",
       "    </tr>\n",
       "  </thead>\n",
       "  <tbody>\n",
       "    <tr>\n",
       "      <th>count</th>\n",
       "      <td>42.000000</td>\n",
       "    </tr>\n",
       "    <tr>\n",
       "      <th>mean</th>\n",
       "      <td>2994.353308</td>\n",
       "    </tr>\n",
       "    <tr>\n",
       "      <th>std</th>\n",
       "      <td>977.930896</td>\n",
       "    </tr>\n",
       "    <tr>\n",
       "      <th>min</th>\n",
       "      <td>1547.818996</td>\n",
       "    </tr>\n",
       "    <tr>\n",
       "      <th>25%</th>\n",
       "      <td>2159.714247</td>\n",
       "    </tr>\n",
       "    <tr>\n",
       "      <th>50%</th>\n",
       "      <td>2782.376999</td>\n",
       "    </tr>\n",
       "    <tr>\n",
       "      <th>75%</th>\n",
       "      <td>3609.250000</td>\n",
       "    </tr>\n",
       "    <tr>\n",
       "      <th>max</th>\n",
       "      <td>5253.000000</td>\n",
       "    </tr>\n",
       "  </tbody>\n",
       "</table>\n",
       "</div>"
      ],
      "text/plain": [
       "             Sales\n",
       "count    42.000000\n",
       "mean   2994.353308\n",
       "std     977.930896\n",
       "min    1547.818996\n",
       "25%    2159.714247\n",
       "50%    2782.376999\n",
       "75%    3609.250000\n",
       "max    5253.000000"
      ]
     },
     "execution_count": 65,
     "metadata": {},
     "output_type": "execute_result"
    }
   ],
   "source": [
    "data.describe()"
   ]
  },
  {
   "cell_type": "code",
   "execution_count": 66,
   "id": "d550c3b8",
   "metadata": {
    "ExecuteTime": {
     "end_time": "2022-12-01T17:23:32.031137Z",
     "start_time": "2022-12-01T17:23:31.890496Z"
    }
   },
   "outputs": [
    {
     "data": {
      "text/html": [
       "<div>\n",
       "<style scoped>\n",
       "    .dataframe tbody tr th:only-of-type {\n",
       "        vertical-align: middle;\n",
       "    }\n",
       "\n",
       "    .dataframe tbody tr th {\n",
       "        vertical-align: top;\n",
       "    }\n",
       "\n",
       "    .dataframe thead th {\n",
       "        text-align: right;\n",
       "    }\n",
       "</style>\n",
       "<table border=\"1\" class=\"dataframe\">\n",
       "  <thead>\n",
       "    <tr style=\"text-align: right;\">\n",
       "      <th></th>\n",
       "      <th>Quarter</th>\n",
       "      <th>Sales</th>\n",
       "    </tr>\n",
       "  </thead>\n",
       "  <tbody>\n",
       "  </tbody>\n",
       "</table>\n",
       "</div>"
      ],
      "text/plain": [
       "Empty DataFrame\n",
       "Columns: [Quarter, Sales]\n",
       "Index: []"
      ]
     },
     "execution_count": 66,
     "metadata": {},
     "output_type": "execute_result"
    }
   ],
   "source": [
    "data[data.duplicated()] "
   ]
  },
  {
   "cell_type": "markdown",
   "id": "2f5191a0",
   "metadata": {
    "ExecuteTime": {
     "end_time": "2022-12-01T05:44:22.038724Z",
     "start_time": "2022-12-01T05:44:22.015017Z"
    }
   },
   "source": [
    "data1=pd.concat([data,t],axis=1)\n",
    "data1"
   ]
  },
  {
   "cell_type": "markdown",
   "id": "6d7071ee",
   "metadata": {},
   "source": [
    "# Visualisations"
   ]
  },
  {
   "cell_type": "code",
   "execution_count": 67,
   "id": "7880cb64",
   "metadata": {
    "ExecuteTime": {
     "end_time": "2022-12-01T17:23:32.185812Z",
     "start_time": "2022-12-01T17:23:32.031137Z"
    }
   },
   "outputs": [],
   "source": [
    "import warnings\n",
    "warnings.filterwarnings('ignore') "
   ]
  },
  {
   "cell_type": "code",
   "execution_count": 68,
   "id": "48a852e8",
   "metadata": {
    "ExecuteTime": {
     "end_time": "2022-12-01T17:23:32.498647Z",
     "start_time": "2022-12-01T17:23:32.189817Z"
    }
   },
   "outputs": [
    {
     "data": {
      "image/png": "[encoded data removed]",
      "text/plain": [
       "<Figure size 432x288 with 1 Axes>"
      ]
     },
     "metadata": {
      "needs_background": "light"
     },
     "output_type": "display_data"
    }
   ],
   "source": [
    "plt.boxplot(data['Sales'])\n",
    "plt.show()"
   ]
  },
  {
   "cell_type": "code",
   "execution_count": 69,
   "id": "ed3b4e51",
   "metadata": {
    "ExecuteTime": {
     "end_time": "2022-12-01T17:23:32.730847Z",
     "start_time": "2022-12-01T17:23:32.498647Z"
    }
   },
   "outputs": [
    {
     "data": {
      "image/png": "[encoded data removed]",
      "text/plain": [
       "<Figure size 432x288 with 1 Axes>"
      ]
     },
     "metadata": {
      "needs_background": "light"
     },
     "output_type": "display_data"
    }
   ],
   "source": [
    "plt.hist(data['Sales'])\n",
    "plt.show() "
   ]
  },
  {
   "cell_type": "code",
   "execution_count": 70,
   "id": "5c5e4cae",
   "metadata": {
    "ExecuteTime": {
     "end_time": "2022-12-01T17:23:33.251817Z",
     "start_time": "2022-12-01T17:23:32.731108Z"
    }
   },
   "outputs": [
    {
     "data": {
      "image/png": "[encoded data removed]",
      "text/plain": [
       "<Figure size 432x288 with 1 Axes>"
      ]
     },
     "metadata": {
      "needs_background": "light"
     },
     "output_type": "display_data"
    }
   ],
   "source": [
    "sns.scatterplot(x=\"Quarter\", y=\"Sales\", data=data)\n",
    "plt.show() "
   ]
  },
  {
   "cell_type": "code",
   "execution_count": 71,
   "id": "08d28f5a",
   "metadata": {
    "ExecuteTime": {
     "end_time": "2022-12-01T17:23:33.487766Z",
     "start_time": "2022-12-01T17:23:33.251817Z"
    }
   },
   "outputs": [
    {
     "data": {
      "image/png": "[encoded data removed]",
      "text/plain": [
       "<Figure size 432x288 with 1 Axes>"
      ]
     },
     "metadata": {
      "needs_background": "light"
     },
     "output_type": "display_data"
    }
   ],
   "source": [
    "sns.distplot(data['Sales'])\n",
    "plt.show() "
   ]
  },
  {
   "cell_type": "code",
   "execution_count": 72,
   "id": "67b9d056",
   "metadata": {
    "ExecuteTime": {
     "end_time": "2022-12-01T17:23:33.707995Z",
     "start_time": "2022-12-01T17:23:33.487766Z"
    }
   },
   "outputs": [
    {
     "data": {
      "image/png": "[encoded data removed]",
      "text/plain": [
       "<Figure size 432x288 with 1 Axes>"
      ]
     },
     "metadata": {
      "needs_background": "light"
     },
     "output_type": "display_data"
    }
   ],
   "source": [
    "data.plot()\n",
    "plt.show() "
   ]
  },
  {
   "cell_type": "code",
   "execution_count": 73,
   "id": "dede16eb",
   "metadata": {
    "ExecuteTime": {
     "end_time": "2022-12-01T17:23:33.947394Z",
     "start_time": "2022-12-01T17:23:33.707995Z"
    }
   },
   "outputs": [
    {
     "data": {
      "image/png": "[encoded data removed]",
      "text/plain": [
       "<Figure size 432x288 with 1 Axes>"
      ]
     },
     "metadata": {
      "needs_background": "light"
     },
     "output_type": "display_data"
    }
   ],
   "source": [
    "data.plot(kind='kde') \n",
    "plt.show() "
   ]
  },
  {
   "cell_type": "markdown",
   "id": "7cd31fde",
   "metadata": {},
   "source": [
    "# Splitting the data"
   ]
  },
  {
   "cell_type": "code",
   "execution_count": 74,
   "id": "a3fc336f",
   "metadata": {
    "ExecuteTime": {
     "end_time": "2022-12-01T17:23:33.957117Z",
     "start_time": "2022-12-01T17:23:33.947394Z"
    }
   },
   "outputs": [],
   "source": [
    "Train= data.head(36)\n",
    "Test= data.tail(6)  "
   ]
  },
  {
   "cell_type": "code",
   "execution_count": 75,
   "id": "5482d7c0",
   "metadata": {
    "ExecuteTime": {
     "end_time": "2022-12-01T17:23:34.116016Z",
     "start_time": "2022-12-01T17:23:33.957117Z"
    }
   },
   "outputs": [],
   "source": [
    "from statsmodels.tsa.seasonal import seasonal_decompose \n",
    "from statsmodels.tsa.holtwinters import SimpleExpSmoothing \n",
    "from statsmodels.tsa.holtwinters import Holt\n",
    "from statsmodels.tsa.holtwinters import ExponentialSmoothing"
   ]
  },
  {
   "cell_type": "markdown",
   "id": "5e7bee2a",
   "metadata": {},
   "source": [
    "# Moving averages"
   ]
  },
  {
   "cell_type": "code",
   "execution_count": 76,
   "id": "2a050556",
   "metadata": {
    "ExecuteTime": {
     "end_time": "2022-12-01T17:23:34.560005Z",
     "start_time": "2022-12-01T17:23:34.116016Z"
    }
   },
   "outputs": [
    {
     "data": {
      "text/plain": [
       "<matplotlib.legend.Legend at 0x1baca58d9a0>"
      ]
     },
     "execution_count": 76,
     "metadata": {},
     "output_type": "execute_result"
    },
    {
     "data": {
      "image/png": "[encoded data removed]",
      "text/plain": [
       "<Figure size 864x288 with 1 Axes>"
      ]
     },
     "metadata": {
      "needs_background": "light"
     },
     "output_type": "display_data"
    }
   ],
   "source": [
    "plt.figure(figsize=(12,4))\n",
    "data.Sales.plot(label=\"org\")\n",
    "for i in range(2,20,6):\n",
    "    data[\"Sales\"].rolling(i).mean().plot(label=str(i))\n",
    "plt.legend(loc='best') "
   ]
  },
  {
   "cell_type": "markdown",
   "id": "0f3b8959",
   "metadata": {},
   "source": [
    "# Time series decomposition plot "
   ]
  },
  {
   "cell_type": "code",
   "execution_count": 77,
   "id": "170f117c",
   "metadata": {
    "ExecuteTime": {
     "end_time": "2022-12-01T17:23:35.114307Z",
     "start_time": "2022-12-01T17:23:34.560005Z"
    }
   },
   "outputs": [
    {
     "data": {
      "image/png": "[encoded data removed]",
      "text/plain": [
       "<Figure size 432x288 with 4 Axes>"
      ]
     },
     "metadata": {
      "needs_background": "light"
     },
     "output_type": "display_data"
    }
   ],
   "source": [
    "decompose_ts_add = seasonal_decompose(data.Sales,freq=4)\n",
    "decompose_ts_add.plot()\n",
    "plt.show() "
   ]
  },
  {
   "cell_type": "code",
   "execution_count": 78,
   "id": "aa9295b1",
   "metadata": {
    "ExecuteTime": {
     "end_time": "2022-12-01T17:23:35.122481Z",
     "start_time": "2022-12-01T17:23:35.114307Z"
    }
   },
   "outputs": [],
   "source": [
    "def MAPE(pred,org): #MAPE = mean absolute percentage error\n",
    "    temp = np.abs((pred-org)/org)*100\n",
    "    return np.mean(temp) "
   ]
  },
  {
   "cell_type": "markdown",
   "id": "60f5e3dc",
   "metadata": {},
   "source": [
    "# Simple Exponential Smoothing"
   ]
  },
  {
   "cell_type": "code",
   "execution_count": 79,
   "id": "3ed13f3c",
   "metadata": {
    "ExecuteTime": {
     "end_time": "2022-12-01T17:23:35.292280Z",
     "start_time": "2022-12-01T17:23:35.122481Z"
    }
   },
   "outputs": [
    {
     "data": {
      "text/plain": [
       "11.318379651390075"
      ]
     },
     "execution_count": 79,
     "metadata": {},
     "output_type": "execute_result"
    }
   ],
   "source": [
    "ses_model = SimpleExpSmoothing(Train[\"Sales\"]).fit()\n",
    "pred_ses = ses_model.predict(start = Test.index[0],end = Test.index[-1])\n",
    "MAPE(pred_ses,Test.Sales) "
   ]
  },
  {
   "cell_type": "markdown",
   "id": "6df12836",
   "metadata": {},
   "source": [
    "# Advanced Exponential Smoothing"
   ]
  },
  {
   "cell_type": "markdown",
   "id": "74ba38b9",
   "metadata": {},
   "source": [
    "## Holt Method"
   ]
  },
  {
   "cell_type": "code",
   "execution_count": 80,
   "id": "17352b73",
   "metadata": {
    "ExecuteTime": {
     "end_time": "2022-12-01T17:23:35.516421Z",
     "start_time": "2022-12-01T17:23:35.292280Z"
    }
   },
   "outputs": [
    {
     "data": {
      "text/plain": [
       "9.777086675249981"
      ]
     },
     "execution_count": 80,
     "metadata": {},
     "output_type": "execute_result"
    }
   ],
   "source": [
    "hw_model = Holt(Train[\"Sales\"]).fit()\n",
    "pred_hw = hw_model.predict(start = Test.index[0],end = Test.index[-1])\n",
    "MAPE(pred_hw,Test.Sales) "
   ]
  },
  {
   "cell_type": "markdown",
   "id": "abcefef6",
   "metadata": {},
   "source": [
    "### Holts winter exponential smoothing with additive seasonality and additive trend"
   ]
  },
  {
   "cell_type": "code",
   "execution_count": 81,
   "id": "7ed84f0c",
   "metadata": {
    "ExecuteTime": {
     "end_time": "2022-12-01T17:23:35.887244Z",
     "start_time": "2022-12-01T17:23:35.516421Z"
    }
   },
   "outputs": [
    {
     "data": {
      "text/plain": [
       "4.092420795926838"
      ]
     },
     "execution_count": 81,
     "metadata": {},
     "output_type": "execute_result"
    }
   ],
   "source": [
    "hwe_model_add_add = ExponentialSmoothing(Train[\"Sales\"],seasonal=\"add\",trend=\"add\",seasonal_periods=4).fit() #add the trend to the model\n",
    "pred_hwe_add_add = hwe_model_add_add.predict(start = Test.index[0],end = Test.index[-1])\n",
    "MAPE(pred_hwe_add_add,Test.Sales) "
   ]
  },
  {
   "cell_type": "markdown",
   "id": "082aee8a",
   "metadata": {},
   "source": [
    "### Holts winter exponential smoothing with multiplicative seasonality and additive trend"
   ]
  },
  {
   "cell_type": "code",
   "execution_count": 82,
   "id": "86c20032",
   "metadata": {
    "ExecuteTime": {
     "end_time": "2022-12-01T17:23:36.193660Z",
     "start_time": "2022-12-01T17:23:35.887244Z"
    }
   },
   "outputs": [
    {
     "data": {
      "text/plain": [
       "1.8886796613974923"
      ]
     },
     "execution_count": 82,
     "metadata": {},
     "output_type": "execute_result"
    }
   ],
   "source": [
    "hwe_model_mul_add = ExponentialSmoothing(Train[\"Sales\"],seasonal=\"mul\",trend=\"add\",seasonal_periods=4).fit() \n",
    "pred_hwe_mul_add = hwe_model_mul_add.predict(start = Test.index[0],end = Test.index[-1])\n",
    "MAPE(pred_hwe_mul_add,Test.Sales) "
   ]
  },
  {
   "cell_type": "markdown",
   "id": "3a3cf1b9",
   "metadata": {},
   "source": [
    "# Final Model by combining train and test"
   ]
  },
  {
   "cell_type": "code",
   "execution_count": 83,
   "id": "b43aee04",
   "metadata": {
    "ExecuteTime": {
     "end_time": "2022-12-01T17:23:36.464545Z",
     "start_time": "2022-12-01T17:23:36.193660Z"
    }
   },
   "outputs": [],
   "source": [
    "data[\"Sales\"] = data[\"Sales\"].astype('double')\n",
    "hwe_model_mul_add = ExponentialSmoothing(data[\"Sales\"],seasonal=\"mul\",trend=\"add\",seasonal_periods=4).fit() "
   ]
  },
  {
   "cell_type": "code",
   "execution_count": 84,
   "id": "1919cd50",
   "metadata": {
    "ExecuteTime": {
     "end_time": "2022-12-01T17:23:36.489472Z",
     "start_time": "2022-12-01T17:23:36.469475Z"
    },
    "scrolled": true
   },
   "outputs": [
    {
     "data": {
      "text/plain": [
       "42    5216.190079\n",
       "43    4663.475300\n",
       "44    4502.472863\n",
       "45    5731.036391\n",
       "46    5613.076244\n",
       "47    5011.683296\n",
       "48    4832.498764\n",
       "49    6143.555251\n",
       "50    6009.962410\n",
       "51    5359.891292\n",
       "52    5162.524666\n",
       "53    6556.074111\n",
       "54    6406.848575\n",
       "55    5708.099288\n",
       "56    5492.550567\n",
       "57    6968.592971\n",
       "58    6803.734741\n",
       "59    6056.307285\n",
       "60    5822.576468\n",
       "61    7381.111831\n",
       "dtype: float64"
      ]
     },
     "execution_count": 84,
     "metadata": {},
     "output_type": "execute_result"
    }
   ],
   "source": [
    "hwe_model_mul_add.forecast(20) "
   ]
  },
  {
   "cell_type": "code",
   "execution_count": 85,
   "id": "2fb35c25",
   "metadata": {
    "ExecuteTime": {
     "end_time": "2022-12-01T17:23:36.667812Z",
     "start_time": "2022-12-01T17:23:36.493463Z"
    }
   },
   "outputs": [
    {
     "data": {
      "text/html": [
       "<div>\n",
       "<style scoped>\n",
       "    .dataframe tbody tr th:only-of-type {\n",
       "        vertical-align: middle;\n",
       "    }\n",
       "\n",
       "    .dataframe tbody tr th {\n",
       "        vertical-align: top;\n",
       "    }\n",
       "\n",
       "    .dataframe thead th {\n",
       "        text-align: right;\n",
       "    }\n",
       "</style>\n",
       "<table border=\"1\" class=\"dataframe\">\n",
       "  <thead>\n",
       "    <tr style=\"text-align: right;\">\n",
       "      <th></th>\n",
       "      <th>Sales</th>\n",
       "    </tr>\n",
       "    <tr>\n",
       "      <th>Quarter</th>\n",
       "      <th></th>\n",
       "    </tr>\n",
       "  </thead>\n",
       "  <tbody>\n",
       "    <tr>\n",
       "      <th>Q1_86</th>\n",
       "      <td>1734.827000</td>\n",
       "    </tr>\n",
       "    <tr>\n",
       "      <th>Q2_86</th>\n",
       "      <td>2244.960999</td>\n",
       "    </tr>\n",
       "    <tr>\n",
       "      <th>Q3_86</th>\n",
       "      <td>2533.804993</td>\n",
       "    </tr>\n",
       "    <tr>\n",
       "      <th>Q4_86</th>\n",
       "      <td>2154.962997</td>\n",
       "    </tr>\n",
       "    <tr>\n",
       "      <th>Q1_87</th>\n",
       "      <td>1547.818996</td>\n",
       "    </tr>\n",
       "    <tr>\n",
       "      <th>Q2_87</th>\n",
       "      <td>2104.411995</td>\n",
       "    </tr>\n",
       "    <tr>\n",
       "      <th>Q3_87</th>\n",
       "      <td>2014.362999</td>\n",
       "    </tr>\n",
       "    <tr>\n",
       "      <th>Q4_87</th>\n",
       "      <td>1991.746998</td>\n",
       "    </tr>\n",
       "    <tr>\n",
       "      <th>Q1_88</th>\n",
       "      <td>1869.049999</td>\n",
       "    </tr>\n",
       "    <tr>\n",
       "      <th>Q2_88</th>\n",
       "      <td>2313.631996</td>\n",
       "    </tr>\n",
       "    <tr>\n",
       "      <th>Q3_88</th>\n",
       "      <td>2128.320000</td>\n",
       "    </tr>\n",
       "    <tr>\n",
       "      <th>Q4_88</th>\n",
       "      <td>2026.828999</td>\n",
       "    </tr>\n",
       "    <tr>\n",
       "      <th>Q1_89</th>\n",
       "      <td>1910.603996</td>\n",
       "    </tr>\n",
       "    <tr>\n",
       "      <th>Q2_89</th>\n",
       "      <td>2331.164993</td>\n",
       "    </tr>\n",
       "    <tr>\n",
       "      <th>Q3_89</th>\n",
       "      <td>2206.549995</td>\n",
       "    </tr>\n",
       "    <tr>\n",
       "      <th>Q4_89</th>\n",
       "      <td>2173.967995</td>\n",
       "    </tr>\n",
       "    <tr>\n",
       "      <th>Q1_90</th>\n",
       "      <td>2148.278000</td>\n",
       "    </tr>\n",
       "    <tr>\n",
       "      <th>Q2_90</th>\n",
       "      <td>2739.307999</td>\n",
       "    </tr>\n",
       "    <tr>\n",
       "      <th>Q3_90</th>\n",
       "      <td>2792.753998</td>\n",
       "    </tr>\n",
       "    <tr>\n",
       "      <th>Q4_90</th>\n",
       "      <td>2556.009995</td>\n",
       "    </tr>\n",
       "    <tr>\n",
       "      <th>Q1_91</th>\n",
       "      <td>2480.973999</td>\n",
       "    </tr>\n",
       "    <tr>\n",
       "      <th>Q2_91</th>\n",
       "      <td>3039.522995</td>\n",
       "    </tr>\n",
       "    <tr>\n",
       "      <th>Q3_91</th>\n",
       "      <td>3172.115997</td>\n",
       "    </tr>\n",
       "    <tr>\n",
       "      <th>Q4_91</th>\n",
       "      <td>2879.000999</td>\n",
       "    </tr>\n",
       "    <tr>\n",
       "      <th>Q1_92</th>\n",
       "      <td>2772.000000</td>\n",
       "    </tr>\n",
       "    <tr>\n",
       "      <th>Q2_92</th>\n",
       "      <td>3550.000000</td>\n",
       "    </tr>\n",
       "    <tr>\n",
       "      <th>Q3_92</th>\n",
       "      <td>3508.000000</td>\n",
       "    </tr>\n",
       "    <tr>\n",
       "      <th>Q4_92</th>\n",
       "      <td>3243.859993</td>\n",
       "    </tr>\n",
       "    <tr>\n",
       "      <th>Q1_93</th>\n",
       "      <td>3056.000000</td>\n",
       "    </tr>\n",
       "    <tr>\n",
       "      <th>Q2_93</th>\n",
       "      <td>3899.000000</td>\n",
       "    </tr>\n",
       "    <tr>\n",
       "      <th>Q3_93</th>\n",
       "      <td>3629.000000</td>\n",
       "    </tr>\n",
       "    <tr>\n",
       "      <th>Q4_93</th>\n",
       "      <td>3373.000000</td>\n",
       "    </tr>\n",
       "    <tr>\n",
       "      <th>Q1_94</th>\n",
       "      <td>3352.000000</td>\n",
       "    </tr>\n",
       "    <tr>\n",
       "      <th>Q2_94</th>\n",
       "      <td>4342.000000</td>\n",
       "    </tr>\n",
       "    <tr>\n",
       "      <th>Q3_94</th>\n",
       "      <td>4461.000000</td>\n",
       "    </tr>\n",
       "    <tr>\n",
       "      <th>Q4_94</th>\n",
       "      <td>4017.000000</td>\n",
       "    </tr>\n",
       "    <tr>\n",
       "      <th>Q1_95</th>\n",
       "      <td>3854.000000</td>\n",
       "    </tr>\n",
       "    <tr>\n",
       "      <th>Q2_95</th>\n",
       "      <td>4936.000000</td>\n",
       "    </tr>\n",
       "    <tr>\n",
       "      <th>Q3_95</th>\n",
       "      <td>4895.000000</td>\n",
       "    </tr>\n",
       "    <tr>\n",
       "      <th>Q4_95</th>\n",
       "      <td>4333.000000</td>\n",
       "    </tr>\n",
       "    <tr>\n",
       "      <th>Q1_96</th>\n",
       "      <td>4194.000000</td>\n",
       "    </tr>\n",
       "    <tr>\n",
       "      <th>Q2_96</th>\n",
       "      <td>5253.000000</td>\n",
       "    </tr>\n",
       "  </tbody>\n",
       "</table>\n",
       "</div>"
      ],
      "text/plain": [
       "               Sales\n",
       "Quarter             \n",
       "Q1_86    1734.827000\n",
       "Q2_86    2244.960999\n",
       "Q3_86    2533.804993\n",
       "Q4_86    2154.962997\n",
       "Q1_87    1547.818996\n",
       "Q2_87    2104.411995\n",
       "Q3_87    2014.362999\n",
       "Q4_87    1991.746998\n",
       "Q1_88    1869.049999\n",
       "Q2_88    2313.631996\n",
       "Q3_88    2128.320000\n",
       "Q4_88    2026.828999\n",
       "Q1_89    1910.603996\n",
       "Q2_89    2331.164993\n",
       "Q3_89    2206.549995\n",
       "Q4_89    2173.967995\n",
       "Q1_90    2148.278000\n",
       "Q2_90    2739.307999\n",
       "Q3_90    2792.753998\n",
       "Q4_90    2556.009995\n",
       "Q1_91    2480.973999\n",
       "Q2_91    3039.522995\n",
       "Q3_91    3172.115997\n",
       "Q4_91    2879.000999\n",
       "Q1_92    2772.000000\n",
       "Q2_92    3550.000000\n",
       "Q3_92    3508.000000\n",
       "Q4_92    3243.859993\n",
       "Q1_93    3056.000000\n",
       "Q2_93    3899.000000\n",
       "Q3_93    3629.000000\n",
       "Q4_93    3373.000000\n",
       "Q1_94    3352.000000\n",
       "Q2_94    4342.000000\n",
       "Q3_94    4461.000000\n",
       "Q4_94    4017.000000\n",
       "Q1_95    3854.000000\n",
       "Q2_95    4936.000000\n",
       "Q3_95    4895.000000\n",
       "Q4_95    4333.000000\n",
       "Q1_96    4194.000000\n",
       "Q2_96    5253.000000"
      ]
     },
     "execution_count": 85,
     "metadata": {},
     "output_type": "execute_result"
    }
   ],
   "source": [
    "df=pd.read_excel(\"CocaCola_Sales_Rawdata.xlsx\", header=0, index_col=0,parse_dates=True) \n",
    "df "
   ]
  },
  {
   "cell_type": "code",
   "execution_count": 86,
   "id": "dfdd5631",
   "metadata": {
    "ExecuteTime": {
     "end_time": "2022-12-01T17:23:37.520024Z",
     "start_time": "2022-12-01T17:23:36.667812Z"
    }
   },
   "outputs": [
    {
     "data": {
      "image/png": "[encoded data removed]",
      "text/plain": [
       "<Figure size 432x288 with 2 Axes>"
      ]
     },
     "metadata": {
      "needs_background": "light"
     },
     "output_type": "display_data"
    }
   ],
   "source": [
    "#line plot\n",
    "plt.subplot(211)\n",
    "plt.plot(df)\n",
    "#hist plot\n",
    "plt.subplot(212)\n",
    "plt.hist(df)\n",
    "\n",
    "plt.show() "
   ]
  },
  {
   "cell_type": "markdown",
   "id": "69a3521e",
   "metadata": {},
   "source": [
    "## Square Root Transform"
   ]
  },
  {
   "cell_type": "code",
   "execution_count": 87,
   "id": "2238520d",
   "metadata": {
    "ExecuteTime": {
     "end_time": "2022-12-01T17:23:37.535651Z",
     "start_time": "2022-12-01T17:23:37.520024Z"
    }
   },
   "outputs": [],
   "source": [
    "from numpy import sqrt \n",
    "from pandas import DataFrame "
   ]
  },
  {
   "cell_type": "code",
   "execution_count": 88,
   "id": "5cf1729a",
   "metadata": {
    "ExecuteTime": {
     "end_time": "2022-12-01T17:23:39.627302Z",
     "start_time": "2022-12-01T17:23:37.535651Z"
    }
   },
   "outputs": [
    {
     "data": {
      "text/plain": [
       "0     41.651254\n",
       "1     47.381019\n",
       "2     50.336915\n",
       "3     46.421579\n",
       "4     39.342331\n",
       "5     45.873871\n",
       "6     44.881655\n",
       "7     44.628993\n",
       "8     43.232511\n",
       "9     48.100229\n",
       "10    46.133719\n",
       "11    45.020318\n",
       "12    43.710456\n",
       "13    48.282139\n",
       "14    46.973929\n",
       "15    46.625830\n",
       "16    46.349520\n",
       "17    52.338399\n",
       "18    52.846514\n",
       "19    50.556997\n",
       "20    49.809377\n",
       "21    55.131869\n",
       "22    56.321541\n",
       "23    53.656323\n",
       "24    52.649786\n",
       "25    59.581876\n",
       "26    59.228372\n",
       "27    56.954894\n",
       "28    55.281100\n",
       "29    62.441973\n",
       "30    60.241182\n",
       "31    58.077534\n",
       "32    57.896459\n",
       "33    65.893854\n",
       "34    66.790718\n",
       "35    63.379808\n",
       "36    62.080593\n",
       "37    70.256672\n",
       "38    69.964277\n",
       "39    65.825527\n",
       "40    64.761099\n",
       "41    72.477583\n",
       "Name: Sales, dtype: float64"
      ]
     },
     "execution_count": 88,
     "metadata": {},
     "output_type": "execute_result"
    }
   ],
   "source": [
    "dataframe = DataFrame(df.values)\n",
    "dataframe.columns = ['Sales']\n",
    "dataframe['Sales'] = sqrt(dataframe['Sales']) \n",
    "dataframe['Sales'] "
   ]
  },
  {
   "cell_type": "code",
   "execution_count": 89,
   "id": "c8aac6b3",
   "metadata": {
    "ExecuteTime": {
     "end_time": "2022-12-01T17:23:40.348364Z",
     "start_time": "2022-12-01T17:23:39.643308Z"
    }
   },
   "outputs": [
    {
     "data": {
      "image/png": "[encoded data removed]",
      "text/plain": [
       "<Figure size 432x288 with 2 Axes>"
      ]
     },
     "metadata": {
      "needs_background": "light"
     },
     "output_type": "display_data"
    }
   ],
   "source": [
    "#line plot\n",
    "plt.subplot(211)\n",
    "plt.plot(dataframe['Sales'])\n",
    "#hist plot\n",
    "plt.subplot(212)\n",
    "plt.hist(dataframe['Sales'])\n",
    "\n",
    "plt.show() "
   ]
  },
  {
   "cell_type": "markdown",
   "id": "50f8e662",
   "metadata": {},
   "source": [
    "## Log Transform"
   ]
  },
  {
   "cell_type": "code",
   "execution_count": 90,
   "id": "41defcc2",
   "metadata": {
    "ExecuteTime": {
     "end_time": "2022-12-01T17:23:40.379616Z",
     "start_time": "2022-12-01T17:23:40.348364Z"
    }
   },
   "outputs": [
    {
     "data": {
      "text/plain": [
       "0     3.729331\n",
       "1     3.858222\n",
       "2     3.918739\n",
       "3     3.837764\n",
       "4     3.672301\n",
       "5     3.825896\n",
       "6     3.804029\n",
       "7     3.798384\n",
       "8     3.766593\n",
       "9     3.873287\n",
       "10    3.831544\n",
       "11    3.807114\n",
       "12    3.777587\n",
       "13    3.877062\n",
       "14    3.849593\n",
       "15    3.842155\n",
       "16    3.836211\n",
       "17    3.957730\n",
       "18    3.967392\n",
       "19    3.923101\n",
       "20    3.908203\n",
       "21    4.009728\n",
       "22    4.031077\n",
       "23    3.982599\n",
       "24    3.963662\n",
       "25    4.087351\n",
       "26    4.081401\n",
       "27    4.042260\n",
       "28    4.012431\n",
       "29    4.134238\n",
       "30    4.098356\n",
       "31    4.061779\n",
       "32    4.058656\n",
       "33    4.188045\n",
       "34    4.201564\n",
       "35    4.149145\n",
       "36    4.128433\n",
       "37    4.252155\n",
       "38    4.247985\n",
       "39    4.187008\n",
       "40    4.170705\n",
       "41    4.283277\n",
       "Name: Sales, dtype: float64"
      ]
     },
     "execution_count": 90,
     "metadata": {},
     "output_type": "execute_result"
    }
   ],
   "source": [
    "from numpy import log\n",
    "\n",
    "dataframe2 = DataFrame(df.values)\n",
    "dataframe2.columns = ['Sales']\n",
    "dataframe2['Sales'] = log(dataframe2['Sales'])\n",
    "dataframe2['Sales']  "
   ]
  },
  {
   "cell_type": "code",
   "execution_count": 91,
   "id": "e511a886",
   "metadata": {
    "ExecuteTime": {
     "end_time": "2022-12-01T17:23:42.457446Z",
     "start_time": "2022-12-01T17:23:40.379616Z"
    }
   },
   "outputs": [
    {
     "data": {
      "image/png": "[encoded data removed]",
      "text/plain": [
       "<Figure size 432x288 with 2 Axes>"
      ]
     },
     "metadata": {
      "needs_background": "light"
     },
     "output_type": "display_data"
    }
   ],
   "source": [
    "plt.subplot(211)\n",
    "plt.plot(dataframe2['Sales'])\n",
    "\n",
    "plt.subplot(212)\n",
    "plt.hist(dataframe2['Sales'])\n",
    "\n",
    "plt.show() "
   ]
  },
  {
   "cell_type": "markdown",
   "id": "950cc0ea",
   "metadata": {},
   "source": [
    "### Lag plot"
   ]
  },
  {
   "cell_type": "code",
   "execution_count": 92,
   "id": "66e1fb73",
   "metadata": {
    "ExecuteTime": {
     "end_time": "2022-12-01T17:23:42.922227Z",
     "start_time": "2022-12-01T17:23:42.473075Z"
    }
   },
   "outputs": [
    {
     "data": {
      "image/png": "[encoded data removed]",
      "text/plain": [
       "<Figure size 432x288 with 1 Axes>"
      ]
     },
     "metadata": {
      "needs_background": "light"
     },
     "output_type": "display_data"
    }
   ],
   "source": [
    "from pandas.plotting import lag_plot\n",
    "\n",
    "lag_plot(df)\n",
    "plt.show() "
   ]
  },
  {
   "cell_type": "markdown",
   "id": "838c03cf",
   "metadata": {},
   "source": [
    "### ACF plot"
   ]
  },
  {
   "cell_type": "code",
   "execution_count": 93,
   "id": "39059b6b",
   "metadata": {
    "ExecuteTime": {
     "end_time": "2022-12-01T17:23:43.242213Z",
     "start_time": "2022-12-01T17:23:42.934243Z"
    }
   },
   "outputs": [
    {
     "data": {
      "image/png": "[encoded data removed]",
      "text/plain": [
       "<Figure size 432x288 with 1 Axes>"
      ]
     },
     "metadata": {
      "needs_background": "light"
     },
     "output_type": "display_data"
    }
   ],
   "source": [
    "from statsmodels.graphics.tsaplots import plot_acf\n",
    "\n",
    "plot_acf(df,lags=20) #acf plot for 20 lags\n",
    "plt.show() "
   ]
  },
  {
   "cell_type": "code",
   "execution_count": 94,
   "id": "4245a80b",
   "metadata": {
    "ExecuteTime": {
     "end_time": "2022-12-01T17:23:44.556517Z",
     "start_time": "2022-12-01T17:23:43.257839Z"
    }
   },
   "outputs": [
    {
     "data": {
      "text/plain": [
       "0     Q1 1986\n",
       "1     Q2 1986\n",
       "2     Q3 1986\n",
       "3     Q4 1986\n",
       "4     Q1 1987\n",
       "5     Q2 1987\n",
       "6     Q3 1987\n",
       "7     Q4 1987\n",
       "8     Q1 1988\n",
       "9     Q2 1988\n",
       "10    Q3 1988\n",
       "11    Q4 1988\n",
       "12    Q1 1989\n",
       "13    Q2 1989\n",
       "14    Q3 1989\n",
       "15    Q4 1989\n",
       "16    Q1 1990\n",
       "17    Q2 1990\n",
       "18    Q3 1990\n",
       "19    Q4 1990\n",
       "20    Q1 1991\n",
       "21    Q2 1991\n",
       "22    Q3 1991\n",
       "23    Q4 1991\n",
       "24    Q1 1992\n",
       "25    Q2 1992\n",
       "26    Q3 1992\n",
       "27    Q4 1992\n",
       "28    Q1 1993\n",
       "29    Q2 1993\n",
       "30    Q3 1993\n",
       "31    Q4 1993\n",
       "32    Q1 1994\n",
       "33    Q2 1994\n",
       "34    Q3 1994\n",
       "35    Q4 1994\n",
       "36    Q1 1995\n",
       "37    Q2 1995\n",
       "38    Q3 1995\n",
       "39    Q4 1995\n",
       "40    Q1 1996\n",
       "41    Q2 1996\n",
       "Name: Quarter_Year, dtype: object"
      ]
     },
     "execution_count": 94,
     "metadata": {},
     "output_type": "execute_result"
    }
   ],
   "source": [
    "data['Quarter_Year'] = data['Quarter'].str.split('_').apply(lambda x: ' 19'.join(x[:]))\n",
    "data['Quarter_Year'] "
   ]
  },
  {
   "cell_type": "code",
   "execution_count": 95,
   "id": "6865d1c1",
   "metadata": {
    "ExecuteTime": {
     "end_time": "2022-12-01T17:23:45.088681Z",
     "start_time": "2022-12-01T17:23:44.588559Z"
    }
   },
   "outputs": [
    {
     "data": {
      "text/html": [
       "<div>\n",
       "<style scoped>\n",
       "    .dataframe tbody tr th:only-of-type {\n",
       "        vertical-align: middle;\n",
       "    }\n",
       "\n",
       "    .dataframe tbody tr th {\n",
       "        vertical-align: top;\n",
       "    }\n",
       "\n",
       "    .dataframe thead th {\n",
       "        text-align: right;\n",
       "    }\n",
       "</style>\n",
       "<table border=\"1\" class=\"dataframe\">\n",
       "  <thead>\n",
       "    <tr style=\"text-align: right;\">\n",
       "      <th></th>\n",
       "      <th>Quarter</th>\n",
       "      <th>Sales</th>\n",
       "      <th>Quarter_Year</th>\n",
       "    </tr>\n",
       "  </thead>\n",
       "  <tbody>\n",
       "    <tr>\n",
       "      <th>0</th>\n",
       "      <td>Q1_86</td>\n",
       "      <td>1734.827000</td>\n",
       "      <td>Q1 1986</td>\n",
       "    </tr>\n",
       "    <tr>\n",
       "      <th>1</th>\n",
       "      <td>Q2_86</td>\n",
       "      <td>2244.960999</td>\n",
       "      <td>Q2 1986</td>\n",
       "    </tr>\n",
       "    <tr>\n",
       "      <th>2</th>\n",
       "      <td>Q3_86</td>\n",
       "      <td>2533.804993</td>\n",
       "      <td>Q3 1986</td>\n",
       "    </tr>\n",
       "    <tr>\n",
       "      <th>3</th>\n",
       "      <td>Q4_86</td>\n",
       "      <td>2154.962997</td>\n",
       "      <td>Q4 1986</td>\n",
       "    </tr>\n",
       "    <tr>\n",
       "      <th>4</th>\n",
       "      <td>Q1_87</td>\n",
       "      <td>1547.818996</td>\n",
       "      <td>Q1 1987</td>\n",
       "    </tr>\n",
       "    <tr>\n",
       "      <th>5</th>\n",
       "      <td>Q2_87</td>\n",
       "      <td>2104.411995</td>\n",
       "      <td>Q2 1987</td>\n",
       "    </tr>\n",
       "    <tr>\n",
       "      <th>6</th>\n",
       "      <td>Q3_87</td>\n",
       "      <td>2014.362999</td>\n",
       "      <td>Q3 1987</td>\n",
       "    </tr>\n",
       "    <tr>\n",
       "      <th>7</th>\n",
       "      <td>Q4_87</td>\n",
       "      <td>1991.746998</td>\n",
       "      <td>Q4 1987</td>\n",
       "    </tr>\n",
       "    <tr>\n",
       "      <th>8</th>\n",
       "      <td>Q1_88</td>\n",
       "      <td>1869.049999</td>\n",
       "      <td>Q1 1988</td>\n",
       "    </tr>\n",
       "    <tr>\n",
       "      <th>9</th>\n",
       "      <td>Q2_88</td>\n",
       "      <td>2313.631996</td>\n",
       "      <td>Q2 1988</td>\n",
       "    </tr>\n",
       "    <tr>\n",
       "      <th>10</th>\n",
       "      <td>Q3_88</td>\n",
       "      <td>2128.320000</td>\n",
       "      <td>Q3 1988</td>\n",
       "    </tr>\n",
       "    <tr>\n",
       "      <th>11</th>\n",
       "      <td>Q4_88</td>\n",
       "      <td>2026.828999</td>\n",
       "      <td>Q4 1988</td>\n",
       "    </tr>\n",
       "    <tr>\n",
       "      <th>12</th>\n",
       "      <td>Q1_89</td>\n",
       "      <td>1910.603996</td>\n",
       "      <td>Q1 1989</td>\n",
       "    </tr>\n",
       "    <tr>\n",
       "      <th>13</th>\n",
       "      <td>Q2_89</td>\n",
       "      <td>2331.164993</td>\n",
       "      <td>Q2 1989</td>\n",
       "    </tr>\n",
       "    <tr>\n",
       "      <th>14</th>\n",
       "      <td>Q3_89</td>\n",
       "      <td>2206.549995</td>\n",
       "      <td>Q3 1989</td>\n",
       "    </tr>\n",
       "    <tr>\n",
       "      <th>15</th>\n",
       "      <td>Q4_89</td>\n",
       "      <td>2173.967995</td>\n",
       "      <td>Q4 1989</td>\n",
       "    </tr>\n",
       "    <tr>\n",
       "      <th>16</th>\n",
       "      <td>Q1_90</td>\n",
       "      <td>2148.278000</td>\n",
       "      <td>Q1 1990</td>\n",
       "    </tr>\n",
       "    <tr>\n",
       "      <th>17</th>\n",
       "      <td>Q2_90</td>\n",
       "      <td>2739.307999</td>\n",
       "      <td>Q2 1990</td>\n",
       "    </tr>\n",
       "    <tr>\n",
       "      <th>18</th>\n",
       "      <td>Q3_90</td>\n",
       "      <td>2792.753998</td>\n",
       "      <td>Q3 1990</td>\n",
       "    </tr>\n",
       "    <tr>\n",
       "      <th>19</th>\n",
       "      <td>Q4_90</td>\n",
       "      <td>2556.009995</td>\n",
       "      <td>Q4 1990</td>\n",
       "    </tr>\n",
       "    <tr>\n",
       "      <th>20</th>\n",
       "      <td>Q1_91</td>\n",
       "      <td>2480.973999</td>\n",
       "      <td>Q1 1991</td>\n",
       "    </tr>\n",
       "    <tr>\n",
       "      <th>21</th>\n",
       "      <td>Q2_91</td>\n",
       "      <td>3039.522995</td>\n",
       "      <td>Q2 1991</td>\n",
       "    </tr>\n",
       "    <tr>\n",
       "      <th>22</th>\n",
       "      <td>Q3_91</td>\n",
       "      <td>3172.115997</td>\n",
       "      <td>Q3 1991</td>\n",
       "    </tr>\n",
       "    <tr>\n",
       "      <th>23</th>\n",
       "      <td>Q4_91</td>\n",
       "      <td>2879.000999</td>\n",
       "      <td>Q4 1991</td>\n",
       "    </tr>\n",
       "    <tr>\n",
       "      <th>24</th>\n",
       "      <td>Q1_92</td>\n",
       "      <td>2772.000000</td>\n",
       "      <td>Q1 1992</td>\n",
       "    </tr>\n",
       "    <tr>\n",
       "      <th>25</th>\n",
       "      <td>Q2_92</td>\n",
       "      <td>3550.000000</td>\n",
       "      <td>Q2 1992</td>\n",
       "    </tr>\n",
       "    <tr>\n",
       "      <th>26</th>\n",
       "      <td>Q3_92</td>\n",
       "      <td>3508.000000</td>\n",
       "      <td>Q3 1992</td>\n",
       "    </tr>\n",
       "    <tr>\n",
       "      <th>27</th>\n",
       "      <td>Q4_92</td>\n",
       "      <td>3243.859993</td>\n",
       "      <td>Q4 1992</td>\n",
       "    </tr>\n",
       "    <tr>\n",
       "      <th>28</th>\n",
       "      <td>Q1_93</td>\n",
       "      <td>3056.000000</td>\n",
       "      <td>Q1 1993</td>\n",
       "    </tr>\n",
       "    <tr>\n",
       "      <th>29</th>\n",
       "      <td>Q2_93</td>\n",
       "      <td>3899.000000</td>\n",
       "      <td>Q2 1993</td>\n",
       "    </tr>\n",
       "    <tr>\n",
       "      <th>30</th>\n",
       "      <td>Q3_93</td>\n",
       "      <td>3629.000000</td>\n",
       "      <td>Q3 1993</td>\n",
       "    </tr>\n",
       "    <tr>\n",
       "      <th>31</th>\n",
       "      <td>Q4_93</td>\n",
       "      <td>3373.000000</td>\n",
       "      <td>Q4 1993</td>\n",
       "    </tr>\n",
       "    <tr>\n",
       "      <th>32</th>\n",
       "      <td>Q1_94</td>\n",
       "      <td>3352.000000</td>\n",
       "      <td>Q1 1994</td>\n",
       "    </tr>\n",
       "    <tr>\n",
       "      <th>33</th>\n",
       "      <td>Q2_94</td>\n",
       "      <td>4342.000000</td>\n",
       "      <td>Q2 1994</td>\n",
       "    </tr>\n",
       "    <tr>\n",
       "      <th>34</th>\n",
       "      <td>Q3_94</td>\n",
       "      <td>4461.000000</td>\n",
       "      <td>Q3 1994</td>\n",
       "    </tr>\n",
       "    <tr>\n",
       "      <th>35</th>\n",
       "      <td>Q4_94</td>\n",
       "      <td>4017.000000</td>\n",
       "      <td>Q4 1994</td>\n",
       "    </tr>\n",
       "    <tr>\n",
       "      <th>36</th>\n",
       "      <td>Q1_95</td>\n",
       "      <td>3854.000000</td>\n",
       "      <td>Q1 1995</td>\n",
       "    </tr>\n",
       "    <tr>\n",
       "      <th>37</th>\n",
       "      <td>Q2_95</td>\n",
       "      <td>4936.000000</td>\n",
       "      <td>Q2 1995</td>\n",
       "    </tr>\n",
       "    <tr>\n",
       "      <th>38</th>\n",
       "      <td>Q3_95</td>\n",
       "      <td>4895.000000</td>\n",
       "      <td>Q3 1995</td>\n",
       "    </tr>\n",
       "    <tr>\n",
       "      <th>39</th>\n",
       "      <td>Q4_95</td>\n",
       "      <td>4333.000000</td>\n",
       "      <td>Q4 1995</td>\n",
       "    </tr>\n",
       "    <tr>\n",
       "      <th>40</th>\n",
       "      <td>Q1_96</td>\n",
       "      <td>4194.000000</td>\n",
       "      <td>Q1 1996</td>\n",
       "    </tr>\n",
       "    <tr>\n",
       "      <th>41</th>\n",
       "      <td>Q2_96</td>\n",
       "      <td>5253.000000</td>\n",
       "      <td>Q2 1996</td>\n",
       "    </tr>\n",
       "  </tbody>\n",
       "</table>\n",
       "</div>"
      ],
      "text/plain": [
       "   Quarter        Sales Quarter_Year\n",
       "0    Q1_86  1734.827000      Q1 1986\n",
       "1    Q2_86  2244.960999      Q2 1986\n",
       "2    Q3_86  2533.804993      Q3 1986\n",
       "3    Q4_86  2154.962997      Q4 1986\n",
       "4    Q1_87  1547.818996      Q1 1987\n",
       "5    Q2_87  2104.411995      Q2 1987\n",
       "6    Q3_87  2014.362999      Q3 1987\n",
       "7    Q4_87  1991.746998      Q4 1987\n",
       "8    Q1_88  1869.049999      Q1 1988\n",
       "9    Q2_88  2313.631996      Q2 1988\n",
       "10   Q3_88  2128.320000      Q3 1988\n",
       "11   Q4_88  2026.828999      Q4 1988\n",
       "12   Q1_89  1910.603996      Q1 1989\n",
       "13   Q2_89  2331.164993      Q2 1989\n",
       "14   Q3_89  2206.549995      Q3 1989\n",
       "15   Q4_89  2173.967995      Q4 1989\n",
       "16   Q1_90  2148.278000      Q1 1990\n",
       "17   Q2_90  2739.307999      Q2 1990\n",
       "18   Q3_90  2792.753998      Q3 1990\n",
       "19   Q4_90  2556.009995      Q4 1990\n",
       "20   Q1_91  2480.973999      Q1 1991\n",
       "21   Q2_91  3039.522995      Q2 1991\n",
       "22   Q3_91  3172.115997      Q3 1991\n",
       "23   Q4_91  2879.000999      Q4 1991\n",
       "24   Q1_92  2772.000000      Q1 1992\n",
       "25   Q2_92  3550.000000      Q2 1992\n",
       "26   Q3_92  3508.000000      Q3 1992\n",
       "27   Q4_92  3243.859993      Q4 1992\n",
       "28   Q1_93  3056.000000      Q1 1993\n",
       "29   Q2_93  3899.000000      Q2 1993\n",
       "30   Q3_93  3629.000000      Q3 1993\n",
       "31   Q4_93  3373.000000      Q4 1993\n",
       "32   Q1_94  3352.000000      Q1 1994\n",
       "33   Q2_94  4342.000000      Q2 1994\n",
       "34   Q3_94  4461.000000      Q3 1994\n",
       "35   Q4_94  4017.000000      Q4 1994\n",
       "36   Q1_95  3854.000000      Q1 1995\n",
       "37   Q2_95  4936.000000      Q2 1995\n",
       "38   Q3_95  4895.000000      Q3 1995\n",
       "39   Q4_95  4333.000000      Q4 1995\n",
       "40   Q1_96  4194.000000      Q1 1996\n",
       "41   Q2_96  5253.000000      Q2 1996"
      ]
     },
     "execution_count": 95,
     "metadata": {},
     "output_type": "execute_result"
    }
   ],
   "source": [
    "data "
   ]
  },
  {
   "cell_type": "code",
   "execution_count": 96,
   "id": "51be9b62",
   "metadata": {
    "ExecuteTime": {
     "end_time": "2022-12-01T17:23:45.259351Z",
     "start_time": "2022-12-01T17:23:45.104311Z"
    }
   },
   "outputs": [],
   "source": [
    "data['date'] = (\n",
    "    pd.to_datetime(\n",
    "        data['Quarter_Year'].str.split(' ').apply(lambda x: ''.join(x[::-1])),dayfirst=True\n",
    "                  )\n",
    "               )"
   ]
  },
  {
   "cell_type": "code",
   "execution_count": 97,
   "id": "222ab668",
   "metadata": {
    "ExecuteTime": {
     "end_time": "2022-12-01T17:23:45.448364Z",
     "start_time": "2022-12-01T17:23:45.271364Z"
    }
   },
   "outputs": [
    {
     "data": {
      "text/html": [
       "<div>\n",
       "<style scoped>\n",
       "    .dataframe tbody tr th:only-of-type {\n",
       "        vertical-align: middle;\n",
       "    }\n",
       "\n",
       "    .dataframe tbody tr th {\n",
       "        vertical-align: top;\n",
       "    }\n",
       "\n",
       "    .dataframe thead th {\n",
       "        text-align: right;\n",
       "    }\n",
       "</style>\n",
       "<table border=\"1\" class=\"dataframe\">\n",
       "  <thead>\n",
       "    <tr style=\"text-align: right;\">\n",
       "      <th></th>\n",
       "      <th>Quarter</th>\n",
       "      <th>Sales</th>\n",
       "      <th>Quarter_Year</th>\n",
       "      <th>date</th>\n",
       "    </tr>\n",
       "  </thead>\n",
       "  <tbody>\n",
       "    <tr>\n",
       "      <th>0</th>\n",
       "      <td>Q1_86</td>\n",
       "      <td>1734.827000</td>\n",
       "      <td>Q1 1986</td>\n",
       "      <td>1986-01-01</td>\n",
       "    </tr>\n",
       "    <tr>\n",
       "      <th>1</th>\n",
       "      <td>Q2_86</td>\n",
       "      <td>2244.960999</td>\n",
       "      <td>Q2 1986</td>\n",
       "      <td>1986-04-01</td>\n",
       "    </tr>\n",
       "    <tr>\n",
       "      <th>2</th>\n",
       "      <td>Q3_86</td>\n",
       "      <td>2533.804993</td>\n",
       "      <td>Q3 1986</td>\n",
       "      <td>1986-07-01</td>\n",
       "    </tr>\n",
       "    <tr>\n",
       "      <th>3</th>\n",
       "      <td>Q4_86</td>\n",
       "      <td>2154.962997</td>\n",
       "      <td>Q4 1986</td>\n",
       "      <td>1986-10-01</td>\n",
       "    </tr>\n",
       "    <tr>\n",
       "      <th>4</th>\n",
       "      <td>Q1_87</td>\n",
       "      <td>1547.818996</td>\n",
       "      <td>Q1 1987</td>\n",
       "      <td>1987-01-01</td>\n",
       "    </tr>\n",
       "    <tr>\n",
       "      <th>5</th>\n",
       "      <td>Q2_87</td>\n",
       "      <td>2104.411995</td>\n",
       "      <td>Q2 1987</td>\n",
       "      <td>1987-04-01</td>\n",
       "    </tr>\n",
       "    <tr>\n",
       "      <th>6</th>\n",
       "      <td>Q3_87</td>\n",
       "      <td>2014.362999</td>\n",
       "      <td>Q3 1987</td>\n",
       "      <td>1987-07-01</td>\n",
       "    </tr>\n",
       "    <tr>\n",
       "      <th>7</th>\n",
       "      <td>Q4_87</td>\n",
       "      <td>1991.746998</td>\n",
       "      <td>Q4 1987</td>\n",
       "      <td>1987-10-01</td>\n",
       "    </tr>\n",
       "    <tr>\n",
       "      <th>8</th>\n",
       "      <td>Q1_88</td>\n",
       "      <td>1869.049999</td>\n",
       "      <td>Q1 1988</td>\n",
       "      <td>1988-01-01</td>\n",
       "    </tr>\n",
       "    <tr>\n",
       "      <th>9</th>\n",
       "      <td>Q2_88</td>\n",
       "      <td>2313.631996</td>\n",
       "      <td>Q2 1988</td>\n",
       "      <td>1988-04-01</td>\n",
       "    </tr>\n",
       "    <tr>\n",
       "      <th>10</th>\n",
       "      <td>Q3_88</td>\n",
       "      <td>2128.320000</td>\n",
       "      <td>Q3 1988</td>\n",
       "      <td>1988-07-01</td>\n",
       "    </tr>\n",
       "    <tr>\n",
       "      <th>11</th>\n",
       "      <td>Q4_88</td>\n",
       "      <td>2026.828999</td>\n",
       "      <td>Q4 1988</td>\n",
       "      <td>1988-10-01</td>\n",
       "    </tr>\n",
       "    <tr>\n",
       "      <th>12</th>\n",
       "      <td>Q1_89</td>\n",
       "      <td>1910.603996</td>\n",
       "      <td>Q1 1989</td>\n",
       "      <td>1989-01-01</td>\n",
       "    </tr>\n",
       "    <tr>\n",
       "      <th>13</th>\n",
       "      <td>Q2_89</td>\n",
       "      <td>2331.164993</td>\n",
       "      <td>Q2 1989</td>\n",
       "      <td>1989-04-01</td>\n",
       "    </tr>\n",
       "    <tr>\n",
       "      <th>14</th>\n",
       "      <td>Q3_89</td>\n",
       "      <td>2206.549995</td>\n",
       "      <td>Q3 1989</td>\n",
       "      <td>1989-07-01</td>\n",
       "    </tr>\n",
       "    <tr>\n",
       "      <th>15</th>\n",
       "      <td>Q4_89</td>\n",
       "      <td>2173.967995</td>\n",
       "      <td>Q4 1989</td>\n",
       "      <td>1989-10-01</td>\n",
       "    </tr>\n",
       "    <tr>\n",
       "      <th>16</th>\n",
       "      <td>Q1_90</td>\n",
       "      <td>2148.278000</td>\n",
       "      <td>Q1 1990</td>\n",
       "      <td>1990-01-01</td>\n",
       "    </tr>\n",
       "    <tr>\n",
       "      <th>17</th>\n",
       "      <td>Q2_90</td>\n",
       "      <td>2739.307999</td>\n",
       "      <td>Q2 1990</td>\n",
       "      <td>1990-04-01</td>\n",
       "    </tr>\n",
       "    <tr>\n",
       "      <th>18</th>\n",
       "      <td>Q3_90</td>\n",
       "      <td>2792.753998</td>\n",
       "      <td>Q3 1990</td>\n",
       "      <td>1990-07-01</td>\n",
       "    </tr>\n",
       "    <tr>\n",
       "      <th>19</th>\n",
       "      <td>Q4_90</td>\n",
       "      <td>2556.009995</td>\n",
       "      <td>Q4 1990</td>\n",
       "      <td>1990-10-01</td>\n",
       "    </tr>\n",
       "    <tr>\n",
       "      <th>20</th>\n",
       "      <td>Q1_91</td>\n",
       "      <td>2480.973999</td>\n",
       "      <td>Q1 1991</td>\n",
       "      <td>1991-01-01</td>\n",
       "    </tr>\n",
       "    <tr>\n",
       "      <th>21</th>\n",
       "      <td>Q2_91</td>\n",
       "      <td>3039.522995</td>\n",
       "      <td>Q2 1991</td>\n",
       "      <td>1991-04-01</td>\n",
       "    </tr>\n",
       "    <tr>\n",
       "      <th>22</th>\n",
       "      <td>Q3_91</td>\n",
       "      <td>3172.115997</td>\n",
       "      <td>Q3 1991</td>\n",
       "      <td>1991-07-01</td>\n",
       "    </tr>\n",
       "    <tr>\n",
       "      <th>23</th>\n",
       "      <td>Q4_91</td>\n",
       "      <td>2879.000999</td>\n",
       "      <td>Q4 1991</td>\n",
       "      <td>1991-10-01</td>\n",
       "    </tr>\n",
       "    <tr>\n",
       "      <th>24</th>\n",
       "      <td>Q1_92</td>\n",
       "      <td>2772.000000</td>\n",
       "      <td>Q1 1992</td>\n",
       "      <td>1992-01-01</td>\n",
       "    </tr>\n",
       "    <tr>\n",
       "      <th>25</th>\n",
       "      <td>Q2_92</td>\n",
       "      <td>3550.000000</td>\n",
       "      <td>Q2 1992</td>\n",
       "      <td>1992-04-01</td>\n",
       "    </tr>\n",
       "    <tr>\n",
       "      <th>26</th>\n",
       "      <td>Q3_92</td>\n",
       "      <td>3508.000000</td>\n",
       "      <td>Q3 1992</td>\n",
       "      <td>1992-07-01</td>\n",
       "    </tr>\n",
       "    <tr>\n",
       "      <th>27</th>\n",
       "      <td>Q4_92</td>\n",
       "      <td>3243.859993</td>\n",
       "      <td>Q4 1992</td>\n",
       "      <td>1992-10-01</td>\n",
       "    </tr>\n",
       "    <tr>\n",
       "      <th>28</th>\n",
       "      <td>Q1_93</td>\n",
       "      <td>3056.000000</td>\n",
       "      <td>Q1 1993</td>\n",
       "      <td>1993-01-01</td>\n",
       "    </tr>\n",
       "    <tr>\n",
       "      <th>29</th>\n",
       "      <td>Q2_93</td>\n",
       "      <td>3899.000000</td>\n",
       "      <td>Q2 1993</td>\n",
       "      <td>1993-04-01</td>\n",
       "    </tr>\n",
       "    <tr>\n",
       "      <th>30</th>\n",
       "      <td>Q3_93</td>\n",
       "      <td>3629.000000</td>\n",
       "      <td>Q3 1993</td>\n",
       "      <td>1993-07-01</td>\n",
       "    </tr>\n",
       "    <tr>\n",
       "      <th>31</th>\n",
       "      <td>Q4_93</td>\n",
       "      <td>3373.000000</td>\n",
       "      <td>Q4 1993</td>\n",
       "      <td>1993-10-01</td>\n",
       "    </tr>\n",
       "    <tr>\n",
       "      <th>32</th>\n",
       "      <td>Q1_94</td>\n",
       "      <td>3352.000000</td>\n",
       "      <td>Q1 1994</td>\n",
       "      <td>1994-01-01</td>\n",
       "    </tr>\n",
       "    <tr>\n",
       "      <th>33</th>\n",
       "      <td>Q2_94</td>\n",
       "      <td>4342.000000</td>\n",
       "      <td>Q2 1994</td>\n",
       "      <td>1994-04-01</td>\n",
       "    </tr>\n",
       "    <tr>\n",
       "      <th>34</th>\n",
       "      <td>Q3_94</td>\n",
       "      <td>4461.000000</td>\n",
       "      <td>Q3 1994</td>\n",
       "      <td>1994-07-01</td>\n",
       "    </tr>\n",
       "    <tr>\n",
       "      <th>35</th>\n",
       "      <td>Q4_94</td>\n",
       "      <td>4017.000000</td>\n",
       "      <td>Q4 1994</td>\n",
       "      <td>1994-10-01</td>\n",
       "    </tr>\n",
       "    <tr>\n",
       "      <th>36</th>\n",
       "      <td>Q1_95</td>\n",
       "      <td>3854.000000</td>\n",
       "      <td>Q1 1995</td>\n",
       "      <td>1995-01-01</td>\n",
       "    </tr>\n",
       "    <tr>\n",
       "      <th>37</th>\n",
       "      <td>Q2_95</td>\n",
       "      <td>4936.000000</td>\n",
       "      <td>Q2 1995</td>\n",
       "      <td>1995-04-01</td>\n",
       "    </tr>\n",
       "    <tr>\n",
       "      <th>38</th>\n",
       "      <td>Q3_95</td>\n",
       "      <td>4895.000000</td>\n",
       "      <td>Q3 1995</td>\n",
       "      <td>1995-07-01</td>\n",
       "    </tr>\n",
       "    <tr>\n",
       "      <th>39</th>\n",
       "      <td>Q4_95</td>\n",
       "      <td>4333.000000</td>\n",
       "      <td>Q4 1995</td>\n",
       "      <td>1995-10-01</td>\n",
       "    </tr>\n",
       "    <tr>\n",
       "      <th>40</th>\n",
       "      <td>Q1_96</td>\n",
       "      <td>4194.000000</td>\n",
       "      <td>Q1 1996</td>\n",
       "      <td>1996-01-01</td>\n",
       "    </tr>\n",
       "    <tr>\n",
       "      <th>41</th>\n",
       "      <td>Q2_96</td>\n",
       "      <td>5253.000000</td>\n",
       "      <td>Q2 1996</td>\n",
       "      <td>1996-04-01</td>\n",
       "    </tr>\n",
       "  </tbody>\n",
       "</table>\n",
       "</div>"
      ],
      "text/plain": [
       "   Quarter        Sales Quarter_Year       date\n",
       "0    Q1_86  1734.827000      Q1 1986 1986-01-01\n",
       "1    Q2_86  2244.960999      Q2 1986 1986-04-01\n",
       "2    Q3_86  2533.804993      Q3 1986 1986-07-01\n",
       "3    Q4_86  2154.962997      Q4 1986 1986-10-01\n",
       "4    Q1_87  1547.818996      Q1 1987 1987-01-01\n",
       "5    Q2_87  2104.411995      Q2 1987 1987-04-01\n",
       "6    Q3_87  2014.362999      Q3 1987 1987-07-01\n",
       "7    Q4_87  1991.746998      Q4 1987 1987-10-01\n",
       "8    Q1_88  1869.049999      Q1 1988 1988-01-01\n",
       "9    Q2_88  2313.631996      Q2 1988 1988-04-01\n",
       "10   Q3_88  2128.320000      Q3 1988 1988-07-01\n",
       "11   Q4_88  2026.828999      Q4 1988 1988-10-01\n",
       "12   Q1_89  1910.603996      Q1 1989 1989-01-01\n",
       "13   Q2_89  2331.164993      Q2 1989 1989-04-01\n",
       "14   Q3_89  2206.549995      Q3 1989 1989-07-01\n",
       "15   Q4_89  2173.967995      Q4 1989 1989-10-01\n",
       "16   Q1_90  2148.278000      Q1 1990 1990-01-01\n",
       "17   Q2_90  2739.307999      Q2 1990 1990-04-01\n",
       "18   Q3_90  2792.753998      Q3 1990 1990-07-01\n",
       "19   Q4_90  2556.009995      Q4 1990 1990-10-01\n",
       "20   Q1_91  2480.973999      Q1 1991 1991-01-01\n",
       "21   Q2_91  3039.522995      Q2 1991 1991-04-01\n",
       "22   Q3_91  3172.115997      Q3 1991 1991-07-01\n",
       "23   Q4_91  2879.000999      Q4 1991 1991-10-01\n",
       "24   Q1_92  2772.000000      Q1 1992 1992-01-01\n",
       "25   Q2_92  3550.000000      Q2 1992 1992-04-01\n",
       "26   Q3_92  3508.000000      Q3 1992 1992-07-01\n",
       "27   Q4_92  3243.859993      Q4 1992 1992-10-01\n",
       "28   Q1_93  3056.000000      Q1 1993 1993-01-01\n",
       "29   Q2_93  3899.000000      Q2 1993 1993-04-01\n",
       "30   Q3_93  3629.000000      Q3 1993 1993-07-01\n",
       "31   Q4_93  3373.000000      Q4 1993 1993-10-01\n",
       "32   Q1_94  3352.000000      Q1 1994 1994-01-01\n",
       "33   Q2_94  4342.000000      Q2 1994 1994-04-01\n",
       "34   Q3_94  4461.000000      Q3 1994 1994-07-01\n",
       "35   Q4_94  4017.000000      Q4 1994 1994-10-01\n",
       "36   Q1_95  3854.000000      Q1 1995 1995-01-01\n",
       "37   Q2_95  4936.000000      Q2 1995 1995-04-01\n",
       "38   Q3_95  4895.000000      Q3 1995 1995-07-01\n",
       "39   Q4_95  4333.000000      Q4 1995 1995-10-01\n",
       "40   Q1_96  4194.000000      Q1 1996 1996-01-01\n",
       "41   Q2_96  5253.000000      Q2 1996 1996-04-01"
      ]
     },
     "execution_count": 97,
     "metadata": {},
     "output_type": "execute_result"
    }
   ],
   "source": [
    "data "
   ]
  },
  {
   "cell_type": "code",
   "execution_count": 98,
   "id": "206d94c2",
   "metadata": {
    "ExecuteTime": {
     "end_time": "2022-12-01T17:23:45.620594Z",
     "start_time": "2022-12-01T17:23:45.460381Z"
    }
   },
   "outputs": [
    {
     "data": {
      "text/html": [
       "<div>\n",
       "<style scoped>\n",
       "    .dataframe tbody tr th:only-of-type {\n",
       "        vertical-align: middle;\n",
       "    }\n",
       "\n",
       "    .dataframe tbody tr th {\n",
       "        vertical-align: top;\n",
       "    }\n",
       "\n",
       "    .dataframe thead th {\n",
       "        text-align: right;\n",
       "    }\n",
       "</style>\n",
       "<table border=\"1\" class=\"dataframe\">\n",
       "  <thead>\n",
       "    <tr style=\"text-align: right;\">\n",
       "      <th></th>\n",
       "      <th>Sales</th>\n",
       "      <th>date</th>\n",
       "    </tr>\n",
       "  </thead>\n",
       "  <tbody>\n",
       "    <tr>\n",
       "      <th>0</th>\n",
       "      <td>1734.827000</td>\n",
       "      <td>1986-01-01</td>\n",
       "    </tr>\n",
       "    <tr>\n",
       "      <th>1</th>\n",
       "      <td>2244.960999</td>\n",
       "      <td>1986-04-01</td>\n",
       "    </tr>\n",
       "    <tr>\n",
       "      <th>2</th>\n",
       "      <td>2533.804993</td>\n",
       "      <td>1986-07-01</td>\n",
       "    </tr>\n",
       "    <tr>\n",
       "      <th>3</th>\n",
       "      <td>2154.962997</td>\n",
       "      <td>1986-10-01</td>\n",
       "    </tr>\n",
       "    <tr>\n",
       "      <th>4</th>\n",
       "      <td>1547.818996</td>\n",
       "      <td>1987-01-01</td>\n",
       "    </tr>\n",
       "    <tr>\n",
       "      <th>5</th>\n",
       "      <td>2104.411995</td>\n",
       "      <td>1987-04-01</td>\n",
       "    </tr>\n",
       "    <tr>\n",
       "      <th>6</th>\n",
       "      <td>2014.362999</td>\n",
       "      <td>1987-07-01</td>\n",
       "    </tr>\n",
       "    <tr>\n",
       "      <th>7</th>\n",
       "      <td>1991.746998</td>\n",
       "      <td>1987-10-01</td>\n",
       "    </tr>\n",
       "    <tr>\n",
       "      <th>8</th>\n",
       "      <td>1869.049999</td>\n",
       "      <td>1988-01-01</td>\n",
       "    </tr>\n",
       "    <tr>\n",
       "      <th>9</th>\n",
       "      <td>2313.631996</td>\n",
       "      <td>1988-04-01</td>\n",
       "    </tr>\n",
       "    <tr>\n",
       "      <th>10</th>\n",
       "      <td>2128.320000</td>\n",
       "      <td>1988-07-01</td>\n",
       "    </tr>\n",
       "    <tr>\n",
       "      <th>11</th>\n",
       "      <td>2026.828999</td>\n",
       "      <td>1988-10-01</td>\n",
       "    </tr>\n",
       "    <tr>\n",
       "      <th>12</th>\n",
       "      <td>1910.603996</td>\n",
       "      <td>1989-01-01</td>\n",
       "    </tr>\n",
       "    <tr>\n",
       "      <th>13</th>\n",
       "      <td>2331.164993</td>\n",
       "      <td>1989-04-01</td>\n",
       "    </tr>\n",
       "    <tr>\n",
       "      <th>14</th>\n",
       "      <td>2206.549995</td>\n",
       "      <td>1989-07-01</td>\n",
       "    </tr>\n",
       "    <tr>\n",
       "      <th>15</th>\n",
       "      <td>2173.967995</td>\n",
       "      <td>1989-10-01</td>\n",
       "    </tr>\n",
       "    <tr>\n",
       "      <th>16</th>\n",
       "      <td>2148.278000</td>\n",
       "      <td>1990-01-01</td>\n",
       "    </tr>\n",
       "    <tr>\n",
       "      <th>17</th>\n",
       "      <td>2739.307999</td>\n",
       "      <td>1990-04-01</td>\n",
       "    </tr>\n",
       "    <tr>\n",
       "      <th>18</th>\n",
       "      <td>2792.753998</td>\n",
       "      <td>1990-07-01</td>\n",
       "    </tr>\n",
       "    <tr>\n",
       "      <th>19</th>\n",
       "      <td>2556.009995</td>\n",
       "      <td>1990-10-01</td>\n",
       "    </tr>\n",
       "    <tr>\n",
       "      <th>20</th>\n",
       "      <td>2480.973999</td>\n",
       "      <td>1991-01-01</td>\n",
       "    </tr>\n",
       "    <tr>\n",
       "      <th>21</th>\n",
       "      <td>3039.522995</td>\n",
       "      <td>1991-04-01</td>\n",
       "    </tr>\n",
       "    <tr>\n",
       "      <th>22</th>\n",
       "      <td>3172.115997</td>\n",
       "      <td>1991-07-01</td>\n",
       "    </tr>\n",
       "    <tr>\n",
       "      <th>23</th>\n",
       "      <td>2879.000999</td>\n",
       "      <td>1991-10-01</td>\n",
       "    </tr>\n",
       "    <tr>\n",
       "      <th>24</th>\n",
       "      <td>2772.000000</td>\n",
       "      <td>1992-01-01</td>\n",
       "    </tr>\n",
       "    <tr>\n",
       "      <th>25</th>\n",
       "      <td>3550.000000</td>\n",
       "      <td>1992-04-01</td>\n",
       "    </tr>\n",
       "    <tr>\n",
       "      <th>26</th>\n",
       "      <td>3508.000000</td>\n",
       "      <td>1992-07-01</td>\n",
       "    </tr>\n",
       "    <tr>\n",
       "      <th>27</th>\n",
       "      <td>3243.859993</td>\n",
       "      <td>1992-10-01</td>\n",
       "    </tr>\n",
       "    <tr>\n",
       "      <th>28</th>\n",
       "      <td>3056.000000</td>\n",
       "      <td>1993-01-01</td>\n",
       "    </tr>\n",
       "    <tr>\n",
       "      <th>29</th>\n",
       "      <td>3899.000000</td>\n",
       "      <td>1993-04-01</td>\n",
       "    </tr>\n",
       "    <tr>\n",
       "      <th>30</th>\n",
       "      <td>3629.000000</td>\n",
       "      <td>1993-07-01</td>\n",
       "    </tr>\n",
       "    <tr>\n",
       "      <th>31</th>\n",
       "      <td>3373.000000</td>\n",
       "      <td>1993-10-01</td>\n",
       "    </tr>\n",
       "    <tr>\n",
       "      <th>32</th>\n",
       "      <td>3352.000000</td>\n",
       "      <td>1994-01-01</td>\n",
       "    </tr>\n",
       "    <tr>\n",
       "      <th>33</th>\n",
       "      <td>4342.000000</td>\n",
       "      <td>1994-04-01</td>\n",
       "    </tr>\n",
       "    <tr>\n",
       "      <th>34</th>\n",
       "      <td>4461.000000</td>\n",
       "      <td>1994-07-01</td>\n",
       "    </tr>\n",
       "    <tr>\n",
       "      <th>35</th>\n",
       "      <td>4017.000000</td>\n",
       "      <td>1994-10-01</td>\n",
       "    </tr>\n",
       "    <tr>\n",
       "      <th>36</th>\n",
       "      <td>3854.000000</td>\n",
       "      <td>1995-01-01</td>\n",
       "    </tr>\n",
       "    <tr>\n",
       "      <th>37</th>\n",
       "      <td>4936.000000</td>\n",
       "      <td>1995-04-01</td>\n",
       "    </tr>\n",
       "    <tr>\n",
       "      <th>38</th>\n",
       "      <td>4895.000000</td>\n",
       "      <td>1995-07-01</td>\n",
       "    </tr>\n",
       "    <tr>\n",
       "      <th>39</th>\n",
       "      <td>4333.000000</td>\n",
       "      <td>1995-10-01</td>\n",
       "    </tr>\n",
       "    <tr>\n",
       "      <th>40</th>\n",
       "      <td>4194.000000</td>\n",
       "      <td>1996-01-01</td>\n",
       "    </tr>\n",
       "    <tr>\n",
       "      <th>41</th>\n",
       "      <td>5253.000000</td>\n",
       "      <td>1996-04-01</td>\n",
       "    </tr>\n",
       "  </tbody>\n",
       "</table>\n",
       "</div>"
      ],
      "text/plain": [
       "          Sales       date\n",
       "0   1734.827000 1986-01-01\n",
       "1   2244.960999 1986-04-01\n",
       "2   2533.804993 1986-07-01\n",
       "3   2154.962997 1986-10-01\n",
       "4   1547.818996 1987-01-01\n",
       "5   2104.411995 1987-04-01\n",
       "6   2014.362999 1987-07-01\n",
       "7   1991.746998 1987-10-01\n",
       "8   1869.049999 1988-01-01\n",
       "9   2313.631996 1988-04-01\n",
       "10  2128.320000 1988-07-01\n",
       "11  2026.828999 1988-10-01\n",
       "12  1910.603996 1989-01-01\n",
       "13  2331.164993 1989-04-01\n",
       "14  2206.549995 1989-07-01\n",
       "15  2173.967995 1989-10-01\n",
       "16  2148.278000 1990-01-01\n",
       "17  2739.307999 1990-04-01\n",
       "18  2792.753998 1990-07-01\n",
       "19  2556.009995 1990-10-01\n",
       "20  2480.973999 1991-01-01\n",
       "21  3039.522995 1991-04-01\n",
       "22  3172.115997 1991-07-01\n",
       "23  2879.000999 1991-10-01\n",
       "24  2772.000000 1992-01-01\n",
       "25  3550.000000 1992-04-01\n",
       "26  3508.000000 1992-07-01\n",
       "27  3243.859993 1992-10-01\n",
       "28  3056.000000 1993-01-01\n",
       "29  3899.000000 1993-04-01\n",
       "30  3629.000000 1993-07-01\n",
       "31  3373.000000 1993-10-01\n",
       "32  3352.000000 1994-01-01\n",
       "33  4342.000000 1994-04-01\n",
       "34  4461.000000 1994-07-01\n",
       "35  4017.000000 1994-10-01\n",
       "36  3854.000000 1995-01-01\n",
       "37  4936.000000 1995-04-01\n",
       "38  4895.000000 1995-07-01\n",
       "39  4333.000000 1995-10-01\n",
       "40  4194.000000 1996-01-01\n",
       "41  5253.000000 1996-04-01"
      ]
     },
     "execution_count": 98,
     "metadata": {},
     "output_type": "execute_result"
    }
   ],
   "source": [
    "data.drop(columns=['Quarter','Quarter_Year'],inplace=True)  \n",
    "data "
   ]
  },
  {
   "cell_type": "code",
   "execution_count": 99,
   "id": "dff493e9",
   "metadata": {
    "ExecuteTime": {
     "end_time": "2022-12-01T17:23:45.780728Z",
     "start_time": "2022-12-01T17:23:45.632613Z"
    }
   },
   "outputs": [],
   "source": [
    "data2 = data[['date','Sales']] "
   ]
  },
  {
   "cell_type": "code",
   "execution_count": 100,
   "id": "71c3f36f",
   "metadata": {
    "ExecuteTime": {
     "end_time": "2022-12-01T17:23:45.948951Z",
     "start_time": "2022-12-01T17:23:45.784734Z"
    }
   },
   "outputs": [
    {
     "data": {
      "text/html": [
       "<div>\n",
       "<style scoped>\n",
       "    .dataframe tbody tr th:only-of-type {\n",
       "        vertical-align: middle;\n",
       "    }\n",
       "\n",
       "    .dataframe tbody tr th {\n",
       "        vertical-align: top;\n",
       "    }\n",
       "\n",
       "    .dataframe thead th {\n",
       "        text-align: right;\n",
       "    }\n",
       "</style>\n",
       "<table border=\"1\" class=\"dataframe\">\n",
       "  <thead>\n",
       "    <tr style=\"text-align: right;\">\n",
       "      <th></th>\n",
       "      <th>date</th>\n",
       "      <th>Sales</th>\n",
       "    </tr>\n",
       "  </thead>\n",
       "  <tbody>\n",
       "    <tr>\n",
       "      <th>0</th>\n",
       "      <td>1986-01-01</td>\n",
       "      <td>1734.827000</td>\n",
       "    </tr>\n",
       "    <tr>\n",
       "      <th>1</th>\n",
       "      <td>1986-04-01</td>\n",
       "      <td>2244.960999</td>\n",
       "    </tr>\n",
       "    <tr>\n",
       "      <th>2</th>\n",
       "      <td>1986-07-01</td>\n",
       "      <td>2533.804993</td>\n",
       "    </tr>\n",
       "    <tr>\n",
       "      <th>3</th>\n",
       "      <td>1986-10-01</td>\n",
       "      <td>2154.962997</td>\n",
       "    </tr>\n",
       "    <tr>\n",
       "      <th>4</th>\n",
       "      <td>1987-01-01</td>\n",
       "      <td>1547.818996</td>\n",
       "    </tr>\n",
       "    <tr>\n",
       "      <th>5</th>\n",
       "      <td>1987-04-01</td>\n",
       "      <td>2104.411995</td>\n",
       "    </tr>\n",
       "    <tr>\n",
       "      <th>6</th>\n",
       "      <td>1987-07-01</td>\n",
       "      <td>2014.362999</td>\n",
       "    </tr>\n",
       "    <tr>\n",
       "      <th>7</th>\n",
       "      <td>1987-10-01</td>\n",
       "      <td>1991.746998</td>\n",
       "    </tr>\n",
       "    <tr>\n",
       "      <th>8</th>\n",
       "      <td>1988-01-01</td>\n",
       "      <td>1869.049999</td>\n",
       "    </tr>\n",
       "    <tr>\n",
       "      <th>9</th>\n",
       "      <td>1988-04-01</td>\n",
       "      <td>2313.631996</td>\n",
       "    </tr>\n",
       "    <tr>\n",
       "      <th>10</th>\n",
       "      <td>1988-07-01</td>\n",
       "      <td>2128.320000</td>\n",
       "    </tr>\n",
       "    <tr>\n",
       "      <th>11</th>\n",
       "      <td>1988-10-01</td>\n",
       "      <td>2026.828999</td>\n",
       "    </tr>\n",
       "    <tr>\n",
       "      <th>12</th>\n",
       "      <td>1989-01-01</td>\n",
       "      <td>1910.603996</td>\n",
       "    </tr>\n",
       "    <tr>\n",
       "      <th>13</th>\n",
       "      <td>1989-04-01</td>\n",
       "      <td>2331.164993</td>\n",
       "    </tr>\n",
       "    <tr>\n",
       "      <th>14</th>\n",
       "      <td>1989-07-01</td>\n",
       "      <td>2206.549995</td>\n",
       "    </tr>\n",
       "    <tr>\n",
       "      <th>15</th>\n",
       "      <td>1989-10-01</td>\n",
       "      <td>2173.967995</td>\n",
       "    </tr>\n",
       "    <tr>\n",
       "      <th>16</th>\n",
       "      <td>1990-01-01</td>\n",
       "      <td>2148.278000</td>\n",
       "    </tr>\n",
       "    <tr>\n",
       "      <th>17</th>\n",
       "      <td>1990-04-01</td>\n",
       "      <td>2739.307999</td>\n",
       "    </tr>\n",
       "    <tr>\n",
       "      <th>18</th>\n",
       "      <td>1990-07-01</td>\n",
       "      <td>2792.753998</td>\n",
       "    </tr>\n",
       "    <tr>\n",
       "      <th>19</th>\n",
       "      <td>1990-10-01</td>\n",
       "      <td>2556.009995</td>\n",
       "    </tr>\n",
       "    <tr>\n",
       "      <th>20</th>\n",
       "      <td>1991-01-01</td>\n",
       "      <td>2480.973999</td>\n",
       "    </tr>\n",
       "    <tr>\n",
       "      <th>21</th>\n",
       "      <td>1991-04-01</td>\n",
       "      <td>3039.522995</td>\n",
       "    </tr>\n",
       "    <tr>\n",
       "      <th>22</th>\n",
       "      <td>1991-07-01</td>\n",
       "      <td>3172.115997</td>\n",
       "    </tr>\n",
       "    <tr>\n",
       "      <th>23</th>\n",
       "      <td>1991-10-01</td>\n",
       "      <td>2879.000999</td>\n",
       "    </tr>\n",
       "    <tr>\n",
       "      <th>24</th>\n",
       "      <td>1992-01-01</td>\n",
       "      <td>2772.000000</td>\n",
       "    </tr>\n",
       "    <tr>\n",
       "      <th>25</th>\n",
       "      <td>1992-04-01</td>\n",
       "      <td>3550.000000</td>\n",
       "    </tr>\n",
       "    <tr>\n",
       "      <th>26</th>\n",
       "      <td>1992-07-01</td>\n",
       "      <td>3508.000000</td>\n",
       "    </tr>\n",
       "    <tr>\n",
       "      <th>27</th>\n",
       "      <td>1992-10-01</td>\n",
       "      <td>3243.859993</td>\n",
       "    </tr>\n",
       "    <tr>\n",
       "      <th>28</th>\n",
       "      <td>1993-01-01</td>\n",
       "      <td>3056.000000</td>\n",
       "    </tr>\n",
       "    <tr>\n",
       "      <th>29</th>\n",
       "      <td>1993-04-01</td>\n",
       "      <td>3899.000000</td>\n",
       "    </tr>\n",
       "    <tr>\n",
       "      <th>30</th>\n",
       "      <td>1993-07-01</td>\n",
       "      <td>3629.000000</td>\n",
       "    </tr>\n",
       "    <tr>\n",
       "      <th>31</th>\n",
       "      <td>1993-10-01</td>\n",
       "      <td>3373.000000</td>\n",
       "    </tr>\n",
       "    <tr>\n",
       "      <th>32</th>\n",
       "      <td>1994-01-01</td>\n",
       "      <td>3352.000000</td>\n",
       "    </tr>\n",
       "    <tr>\n",
       "      <th>33</th>\n",
       "      <td>1994-04-01</td>\n",
       "      <td>4342.000000</td>\n",
       "    </tr>\n",
       "    <tr>\n",
       "      <th>34</th>\n",
       "      <td>1994-07-01</td>\n",
       "      <td>4461.000000</td>\n",
       "    </tr>\n",
       "    <tr>\n",
       "      <th>35</th>\n",
       "      <td>1994-10-01</td>\n",
       "      <td>4017.000000</td>\n",
       "    </tr>\n",
       "    <tr>\n",
       "      <th>36</th>\n",
       "      <td>1995-01-01</td>\n",
       "      <td>3854.000000</td>\n",
       "    </tr>\n",
       "    <tr>\n",
       "      <th>37</th>\n",
       "      <td>1995-04-01</td>\n",
       "      <td>4936.000000</td>\n",
       "    </tr>\n",
       "    <tr>\n",
       "      <th>38</th>\n",
       "      <td>1995-07-01</td>\n",
       "      <td>4895.000000</td>\n",
       "    </tr>\n",
       "    <tr>\n",
       "      <th>39</th>\n",
       "      <td>1995-10-01</td>\n",
       "      <td>4333.000000</td>\n",
       "    </tr>\n",
       "    <tr>\n",
       "      <th>40</th>\n",
       "      <td>1996-01-01</td>\n",
       "      <td>4194.000000</td>\n",
       "    </tr>\n",
       "    <tr>\n",
       "      <th>41</th>\n",
       "      <td>1996-04-01</td>\n",
       "      <td>5253.000000</td>\n",
       "    </tr>\n",
       "  </tbody>\n",
       "</table>\n",
       "</div>"
      ],
      "text/plain": [
       "         date        Sales\n",
       "0  1986-01-01  1734.827000\n",
       "1  1986-04-01  2244.960999\n",
       "2  1986-07-01  2533.804993\n",
       "3  1986-10-01  2154.962997\n",
       "4  1987-01-01  1547.818996\n",
       "5  1987-04-01  2104.411995\n",
       "6  1987-07-01  2014.362999\n",
       "7  1987-10-01  1991.746998\n",
       "8  1988-01-01  1869.049999\n",
       "9  1988-04-01  2313.631996\n",
       "10 1988-07-01  2128.320000\n",
       "11 1988-10-01  2026.828999\n",
       "12 1989-01-01  1910.603996\n",
       "13 1989-04-01  2331.164993\n",
       "14 1989-07-01  2206.549995\n",
       "15 1989-10-01  2173.967995\n",
       "16 1990-01-01  2148.278000\n",
       "17 1990-04-01  2739.307999\n",
       "18 1990-07-01  2792.753998\n",
       "19 1990-10-01  2556.009995\n",
       "20 1991-01-01  2480.973999\n",
       "21 1991-04-01  3039.522995\n",
       "22 1991-07-01  3172.115997\n",
       "23 1991-10-01  2879.000999\n",
       "24 1992-01-01  2772.000000\n",
       "25 1992-04-01  3550.000000\n",
       "26 1992-07-01  3508.000000\n",
       "27 1992-10-01  3243.859993\n",
       "28 1993-01-01  3056.000000\n",
       "29 1993-04-01  3899.000000\n",
       "30 1993-07-01  3629.000000\n",
       "31 1993-10-01  3373.000000\n",
       "32 1994-01-01  3352.000000\n",
       "33 1994-04-01  4342.000000\n",
       "34 1994-07-01  4461.000000\n",
       "35 1994-10-01  4017.000000\n",
       "36 1995-01-01  3854.000000\n",
       "37 1995-04-01  4936.000000\n",
       "38 1995-07-01  4895.000000\n",
       "39 1995-10-01  4333.000000\n",
       "40 1996-01-01  4194.000000\n",
       "41 1996-04-01  5253.000000"
      ]
     },
     "execution_count": 100,
     "metadata": {},
     "output_type": "execute_result"
    }
   ],
   "source": [
    "data2 "
   ]
  },
  {
   "cell_type": "code",
   "execution_count": 101,
   "id": "a1da0d58",
   "metadata": {
    "ExecuteTime": {
     "end_time": "2022-12-01T17:23:46.141211Z",
     "start_time": "2022-12-01T17:23:45.964973Z"
    }
   },
   "outputs": [
    {
     "data": {
      "text/html": [
       "<div>\n",
       "<style scoped>\n",
       "    .dataframe tbody tr th:only-of-type {\n",
       "        vertical-align: middle;\n",
       "    }\n",
       "\n",
       "    .dataframe tbody tr th {\n",
       "        vertical-align: top;\n",
       "    }\n",
       "\n",
       "    .dataframe thead th {\n",
       "        text-align: right;\n",
       "    }\n",
       "</style>\n",
       "<table border=\"1\" class=\"dataframe\">\n",
       "  <thead>\n",
       "    <tr style=\"text-align: right;\">\n",
       "      <th></th>\n",
       "      <th>Sales</th>\n",
       "    </tr>\n",
       "    <tr>\n",
       "      <th>date</th>\n",
       "      <th></th>\n",
       "    </tr>\n",
       "  </thead>\n",
       "  <tbody>\n",
       "    <tr>\n",
       "      <th>1986-01-01</th>\n",
       "      <td>1734.827000</td>\n",
       "    </tr>\n",
       "    <tr>\n",
       "      <th>1986-04-01</th>\n",
       "      <td>2244.960999</td>\n",
       "    </tr>\n",
       "    <tr>\n",
       "      <th>1986-07-01</th>\n",
       "      <td>2533.804993</td>\n",
       "    </tr>\n",
       "    <tr>\n",
       "      <th>1986-10-01</th>\n",
       "      <td>2154.962997</td>\n",
       "    </tr>\n",
       "    <tr>\n",
       "      <th>1987-01-01</th>\n",
       "      <td>1547.818996</td>\n",
       "    </tr>\n",
       "    <tr>\n",
       "      <th>1987-04-01</th>\n",
       "      <td>2104.411995</td>\n",
       "    </tr>\n",
       "    <tr>\n",
       "      <th>1987-07-01</th>\n",
       "      <td>2014.362999</td>\n",
       "    </tr>\n",
       "    <tr>\n",
       "      <th>1987-10-01</th>\n",
       "      <td>1991.746998</td>\n",
       "    </tr>\n",
       "    <tr>\n",
       "      <th>1988-01-01</th>\n",
       "      <td>1869.049999</td>\n",
       "    </tr>\n",
       "    <tr>\n",
       "      <th>1988-04-01</th>\n",
       "      <td>2313.631996</td>\n",
       "    </tr>\n",
       "    <tr>\n",
       "      <th>1988-07-01</th>\n",
       "      <td>2128.320000</td>\n",
       "    </tr>\n",
       "    <tr>\n",
       "      <th>1988-10-01</th>\n",
       "      <td>2026.828999</td>\n",
       "    </tr>\n",
       "    <tr>\n",
       "      <th>1989-01-01</th>\n",
       "      <td>1910.603996</td>\n",
       "    </tr>\n",
       "    <tr>\n",
       "      <th>1989-04-01</th>\n",
       "      <td>2331.164993</td>\n",
       "    </tr>\n",
       "    <tr>\n",
       "      <th>1989-07-01</th>\n",
       "      <td>2206.549995</td>\n",
       "    </tr>\n",
       "    <tr>\n",
       "      <th>1989-10-01</th>\n",
       "      <td>2173.967995</td>\n",
       "    </tr>\n",
       "    <tr>\n",
       "      <th>1990-01-01</th>\n",
       "      <td>2148.278000</td>\n",
       "    </tr>\n",
       "    <tr>\n",
       "      <th>1990-04-01</th>\n",
       "      <td>2739.307999</td>\n",
       "    </tr>\n",
       "    <tr>\n",
       "      <th>1990-07-01</th>\n",
       "      <td>2792.753998</td>\n",
       "    </tr>\n",
       "    <tr>\n",
       "      <th>1990-10-01</th>\n",
       "      <td>2556.009995</td>\n",
       "    </tr>\n",
       "    <tr>\n",
       "      <th>1991-01-01</th>\n",
       "      <td>2480.973999</td>\n",
       "    </tr>\n",
       "    <tr>\n",
       "      <th>1991-04-01</th>\n",
       "      <td>3039.522995</td>\n",
       "    </tr>\n",
       "    <tr>\n",
       "      <th>1991-07-01</th>\n",
       "      <td>3172.115997</td>\n",
       "    </tr>\n",
       "    <tr>\n",
       "      <th>1991-10-01</th>\n",
       "      <td>2879.000999</td>\n",
       "    </tr>\n",
       "    <tr>\n",
       "      <th>1992-01-01</th>\n",
       "      <td>2772.000000</td>\n",
       "    </tr>\n",
       "    <tr>\n",
       "      <th>1992-04-01</th>\n",
       "      <td>3550.000000</td>\n",
       "    </tr>\n",
       "    <tr>\n",
       "      <th>1992-07-01</th>\n",
       "      <td>3508.000000</td>\n",
       "    </tr>\n",
       "    <tr>\n",
       "      <th>1992-10-01</th>\n",
       "      <td>3243.859993</td>\n",
       "    </tr>\n",
       "    <tr>\n",
       "      <th>1993-01-01</th>\n",
       "      <td>3056.000000</td>\n",
       "    </tr>\n",
       "    <tr>\n",
       "      <th>1993-04-01</th>\n",
       "      <td>3899.000000</td>\n",
       "    </tr>\n",
       "    <tr>\n",
       "      <th>1993-07-01</th>\n",
       "      <td>3629.000000</td>\n",
       "    </tr>\n",
       "    <tr>\n",
       "      <th>1993-10-01</th>\n",
       "      <td>3373.000000</td>\n",
       "    </tr>\n",
       "    <tr>\n",
       "      <th>1994-01-01</th>\n",
       "      <td>3352.000000</td>\n",
       "    </tr>\n",
       "    <tr>\n",
       "      <th>1994-04-01</th>\n",
       "      <td>4342.000000</td>\n",
       "    </tr>\n",
       "    <tr>\n",
       "      <th>1994-07-01</th>\n",
       "      <td>4461.000000</td>\n",
       "    </tr>\n",
       "    <tr>\n",
       "      <th>1994-10-01</th>\n",
       "      <td>4017.000000</td>\n",
       "    </tr>\n",
       "    <tr>\n",
       "      <th>1995-01-01</th>\n",
       "      <td>3854.000000</td>\n",
       "    </tr>\n",
       "    <tr>\n",
       "      <th>1995-04-01</th>\n",
       "      <td>4936.000000</td>\n",
       "    </tr>\n",
       "    <tr>\n",
       "      <th>1995-07-01</th>\n",
       "      <td>4895.000000</td>\n",
       "    </tr>\n",
       "    <tr>\n",
       "      <th>1995-10-01</th>\n",
       "      <td>4333.000000</td>\n",
       "    </tr>\n",
       "    <tr>\n",
       "      <th>1996-01-01</th>\n",
       "      <td>4194.000000</td>\n",
       "    </tr>\n",
       "    <tr>\n",
       "      <th>1996-04-01</th>\n",
       "      <td>5253.000000</td>\n",
       "    </tr>\n",
       "  </tbody>\n",
       "</table>\n",
       "</div>"
      ],
      "text/plain": [
       "                  Sales\n",
       "date                   \n",
       "1986-01-01  1734.827000\n",
       "1986-04-01  2244.960999\n",
       "1986-07-01  2533.804993\n",
       "1986-10-01  2154.962997\n",
       "1987-01-01  1547.818996\n",
       "1987-04-01  2104.411995\n",
       "1987-07-01  2014.362999\n",
       "1987-10-01  1991.746998\n",
       "1988-01-01  1869.049999\n",
       "1988-04-01  2313.631996\n",
       "1988-07-01  2128.320000\n",
       "1988-10-01  2026.828999\n",
       "1989-01-01  1910.603996\n",
       "1989-04-01  2331.164993\n",
       "1989-07-01  2206.549995\n",
       "1989-10-01  2173.967995\n",
       "1990-01-01  2148.278000\n",
       "1990-04-01  2739.307999\n",
       "1990-07-01  2792.753998\n",
       "1990-10-01  2556.009995\n",
       "1991-01-01  2480.973999\n",
       "1991-04-01  3039.522995\n",
       "1991-07-01  3172.115997\n",
       "1991-10-01  2879.000999\n",
       "1992-01-01  2772.000000\n",
       "1992-04-01  3550.000000\n",
       "1992-07-01  3508.000000\n",
       "1992-10-01  3243.859993\n",
       "1993-01-01  3056.000000\n",
       "1993-04-01  3899.000000\n",
       "1993-07-01  3629.000000\n",
       "1993-10-01  3373.000000\n",
       "1994-01-01  3352.000000\n",
       "1994-04-01  4342.000000\n",
       "1994-07-01  4461.000000\n",
       "1994-10-01  4017.000000\n",
       "1995-01-01  3854.000000\n",
       "1995-04-01  4936.000000\n",
       "1995-07-01  4895.000000\n",
       "1995-10-01  4333.000000\n",
       "1996-01-01  4194.000000\n",
       "1996-04-01  5253.000000"
      ]
     },
     "execution_count": 101,
     "metadata": {},
     "output_type": "execute_result"
    }
   ],
   "source": [
    "data2.set_index('date',inplace=True)  \n",
    "data2 "
   ]
  },
  {
   "cell_type": "code",
   "execution_count": 103,
   "id": "2f607f7f",
   "metadata": {
    "ExecuteTime": {
     "end_time": "2022-12-01T17:25:24.249521Z",
     "start_time": "2022-12-01T17:25:23.655336Z"
    }
   },
   "outputs": [
    {
     "data": {
      "image/png": "[encoded data removed]",
      "text/plain": [
       "<Figure size 432x288 with 1 Axes>"
      ]
     },
     "metadata": {
      "needs_background": "light"
     },
     "output_type": "display_data"
    },
    {
     "data": {
      "image/png": "[encoded data removed]",
      "text/plain": [
       "<Figure size 432x288 with 1 Axes>"
      ]
     },
     "metadata": {
      "needs_background": "light"
     },
     "output_type": "display_data"
    }
   ],
   "source": [
    "#line plot\n",
    "data2.plot()\n",
    "plt.show() \n",
    "#hist plot\n",
    "data2.hist()\n",
    "plt.show() "
   ]
  },
  {
   "cell_type": "markdown",
   "id": "a3219463",
   "metadata": {},
   "source": [
    "## Upsampling the data"
   ]
  },
  {
   "cell_type": "code",
   "execution_count": 104,
   "id": "a417ac11",
   "metadata": {
    "ExecuteTime": {
     "end_time": "2022-12-01T17:27:21.608019Z",
     "start_time": "2022-12-01T17:27:21.561140Z"
    }
   },
   "outputs": [
    {
     "name": "stdout",
     "output_type": "stream",
     "text": [
      "                  Sales\n",
      "date                   \n",
      "1986-01-31  1734.827000\n",
      "1986-02-28          NaN\n",
      "1986-03-31          NaN\n",
      "1986-04-30  2244.960999\n",
      "1986-05-31          NaN\n",
      "1986-06-30          NaN\n",
      "1986-07-31  2533.804993\n",
      "1986-08-31          NaN\n",
      "1986-09-30          NaN\n",
      "1986-10-31  2154.962997\n",
      "1986-11-30          NaN\n",
      "1986-12-31          NaN\n",
      "1987-01-31  1547.818996\n",
      "1987-02-28          NaN\n",
      "1987-03-31          NaN\n",
      "1987-04-30  2104.411995\n",
      "1987-05-31          NaN\n",
      "1987-06-30          NaN\n",
      "1987-07-31  2014.362999\n",
      "1987-08-31          NaN\n",
      "1987-09-30          NaN\n",
      "1987-10-31  1991.746998\n",
      "1987-11-30          NaN\n",
      "1987-12-31          NaN\n",
      "1988-01-31  1869.049999\n",
      "1988-02-29          NaN\n",
      "1988-03-31          NaN\n",
      "1988-04-30  2313.631996\n",
      "1988-05-31          NaN\n",
      "1988-06-30          NaN\n",
      "1988-07-31  2128.320000\n",
      "1988-08-31          NaN\n"
     ]
    }
   ],
   "source": [
    "upsampled = data2.resample('M').mean()\n",
    "print(upsampled.head(32)) "
   ]
  },
  {
   "cell_type": "code",
   "execution_count": 105,
   "id": "e14b67d3",
   "metadata": {
    "ExecuteTime": {
     "end_time": "2022-12-01T17:28:00.728874Z",
     "start_time": "2022-12-01T17:28:00.074475Z"
    }
   },
   "outputs": [
    {
     "name": "stdout",
     "output_type": "stream",
     "text": [
      "                  Sales\n",
      "date                   \n",
      "1986-01-31  1734.827000\n",
      "1986-02-28  1904.871666\n",
      "1986-03-31  2074.916332\n",
      "1986-04-30  2244.960999\n",
      "1986-05-31  2341.242330\n",
      "1986-06-30  2437.523661\n",
      "1986-07-31  2533.804993\n",
      "1986-08-31  2407.524328\n",
      "1986-09-30  2281.243663\n",
      "1986-10-31  2154.962997\n",
      "1986-11-30  1952.581664\n",
      "1986-12-31  1750.200330\n",
      "1987-01-31  1547.818996\n",
      "1987-02-28  1733.349996\n",
      "1987-03-31  1918.880995\n"
     ]
    },
    {
     "data": {
      "image/png": "[encoded data removed]",
      "text/plain": [
       "<Figure size 432x288 with 1 Axes>"
      ]
     },
     "metadata": {
      "needs_background": "light"
     },
     "output_type": "display_data"
    }
   ],
   "source": [
    "interpolated = upsampled.interpolate(method='linear')\n",
    "print(interpolated.head(15))\n",
    "interpolated.plot()\n",
    "plt.show() "
   ]
  },
  {
   "cell_type": "code",
   "execution_count": 106,
   "id": "479eb834",
   "metadata": {
    "ExecuteTime": {
     "end_time": "2022-12-01T17:28:19.853736Z",
     "start_time": "2022-12-01T17:28:19.822513Z"
    }
   },
   "outputs": [
    {
     "data": {
      "text/html": [
       "<div>\n",
       "<style scoped>\n",
       "    .dataframe tbody tr th:only-of-type {\n",
       "        vertical-align: middle;\n",
       "    }\n",
       "\n",
       "    .dataframe tbody tr th {\n",
       "        vertical-align: top;\n",
       "    }\n",
       "\n",
       "    .dataframe thead th {\n",
       "        text-align: right;\n",
       "    }\n",
       "</style>\n",
       "<table border=\"1\" class=\"dataframe\">\n",
       "  <thead>\n",
       "    <tr style=\"text-align: right;\">\n",
       "      <th></th>\n",
       "      <th>Sales</th>\n",
       "    </tr>\n",
       "    <tr>\n",
       "      <th>date</th>\n",
       "      <th></th>\n",
       "    </tr>\n",
       "  </thead>\n",
       "  <tbody>\n",
       "    <tr>\n",
       "      <th>1986-01-31</th>\n",
       "      <td>1734.827000</td>\n",
       "    </tr>\n",
       "    <tr>\n",
       "      <th>1986-02-28</th>\n",
       "      <td>1904.871666</td>\n",
       "    </tr>\n",
       "    <tr>\n",
       "      <th>1986-03-31</th>\n",
       "      <td>2074.916332</td>\n",
       "    </tr>\n",
       "    <tr>\n",
       "      <th>1986-04-30</th>\n",
       "      <td>2244.960999</td>\n",
       "    </tr>\n",
       "    <tr>\n",
       "      <th>1986-05-31</th>\n",
       "      <td>2341.242330</td>\n",
       "    </tr>\n",
       "    <tr>\n",
       "      <th>...</th>\n",
       "      <td>...</td>\n",
       "    </tr>\n",
       "    <tr>\n",
       "      <th>1995-12-31</th>\n",
       "      <td>4240.333333</td>\n",
       "    </tr>\n",
       "    <tr>\n",
       "      <th>1996-01-31</th>\n",
       "      <td>4194.000000</td>\n",
       "    </tr>\n",
       "    <tr>\n",
       "      <th>1996-02-29</th>\n",
       "      <td>4547.000000</td>\n",
       "    </tr>\n",
       "    <tr>\n",
       "      <th>1996-03-31</th>\n",
       "      <td>4900.000000</td>\n",
       "    </tr>\n",
       "    <tr>\n",
       "      <th>1996-04-30</th>\n",
       "      <td>5253.000000</td>\n",
       "    </tr>\n",
       "  </tbody>\n",
       "</table>\n",
       "<p>124 rows × 1 columns</p>\n",
       "</div>"
      ],
      "text/plain": [
       "                  Sales\n",
       "date                   \n",
       "1986-01-31  1734.827000\n",
       "1986-02-28  1904.871666\n",
       "1986-03-31  2074.916332\n",
       "1986-04-30  2244.960999\n",
       "1986-05-31  2341.242330\n",
       "...                 ...\n",
       "1995-12-31  4240.333333\n",
       "1996-01-31  4194.000000\n",
       "1996-02-29  4547.000000\n",
       "1996-03-31  4900.000000\n",
       "1996-04-30  5253.000000\n",
       "\n",
       "[124 rows x 1 columns]"
      ]
     },
     "execution_count": 106,
     "metadata": {},
     "output_type": "execute_result"
    }
   ],
   "source": [
    "interpolated "
   ]
  },
  {
   "cell_type": "code",
   "execution_count": null,
   "id": "8eda6ecb",
   "metadata": {},
   "outputs": [],
   "source": []
  },
  {
   "cell_type": "code",
   "execution_count": null,
   "id": "29732d80",
   "metadata": {},
   "outputs": [],
   "source": []
  },
  {
   "cell_type": "code",
   "execution_count": null,
   "id": "798595c7",
   "metadata": {},
   "outputs": [],
   "source": []
  }
 ],
 "metadata": {
  "kernelspec": {
   "display_name": "Python 3 (ipykernel)",
   "language": "python",
   "name": "python3"
  },
  "language_info": {
   "codemirror_mode": {
    "name": "ipython",
    "version": 3
   },
   "file_extension": ".py",
   "mimetype": "text/x-python",
   "name": "python",
   "nbconvert_exporter": "python",
   "pygments_lexer": "ipython3",
   "version": "3.9.7"
  }
 },
 "nbformat": 4,
 "nbformat_minor": 5
}
